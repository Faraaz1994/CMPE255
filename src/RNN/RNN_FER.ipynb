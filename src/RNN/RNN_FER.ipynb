{
  "nbformat": 4,
  "nbformat_minor": 0,
  "metadata": {
    "colab": {
      "name": "RNN_FER.ipynb",
      "provenance": [],
      "collapsed_sections": []
    },
    "kernelspec": {
      "name": "python3",
      "display_name": "Python 3"
    }
  },
  "cells": [
    {
      "cell_type": "code",
      "metadata": {
        "id": "jkj0JMs9Y9VH",
        "colab_type": "code",
        "outputId": "1890e487-9c8a-4eb6-d97a-0c3bb23fdf1f",
        "colab": {
          "base_uri": "https://localhost:8080/",
          "height": 156
        }
      },
      "source": [
        "!pip3 install torch torchvision\n",
        "import torchvision\n",
        "import torchvision.transforms as transforms\n",
        "import torch\n",
        "import torch.nn as nn\n",
        "import torch.nn.functional as F\n",
        "import os\n",
        "import numpy as np\n",
        "import pandas as pd\n",
        "import matplotlib.pyplot as plt\n",
        "from torch.utils.data import Dataset, DataLoader\n",
        "import torchvision.transforms as transforms\n",
        "from PIL import Image\n",
        "from sklearn.metrics import confusion_matrix\n",
        "import seaborn as sn\n",
        "import matplotlib.pyplot as plt\n",
        "from sklearn.metrics import plot_confusion_matrix"
      ],
      "execution_count": 1,
      "outputs": [
        {
          "output_type": "stream",
          "text": [
            "Requirement already satisfied: torch in /usr/local/lib/python3.6/dist-packages (1.5.0+cu101)\n",
            "Requirement already satisfied: torchvision in /usr/local/lib/python3.6/dist-packages (0.6.0+cu101)\n",
            "Requirement already satisfied: future in /usr/local/lib/python3.6/dist-packages (from torch) (0.16.0)\n",
            "Requirement already satisfied: numpy in /usr/local/lib/python3.6/dist-packages (from torch) (1.18.4)\n",
            "Requirement already satisfied: pillow>=4.1.1 in /usr/local/lib/python3.6/dist-packages (from torchvision) (7.0.0)\n"
          ],
          "name": "stdout"
        },
        {
          "output_type": "stream",
          "text": [
            "/usr/local/lib/python3.6/dist-packages/statsmodels/tools/_testing.py:19: FutureWarning: pandas.util.testing is deprecated. Use the functions in the public API at pandas.testing instead.\n",
            "  import pandas.util.testing as tm\n"
          ],
          "name": "stderr"
        }
      ]
    },
    {
      "cell_type": "code",
      "metadata": {
        "id": "CGp-2Cn1MBjN",
        "colab_type": "code",
        "colab": {}
      },
      "source": [
        "data = pd.read_csv('fer2013.csv')\n"
      ],
      "execution_count": 0,
      "outputs": []
    },
    {
      "cell_type": "code",
      "metadata": {
        "id": "aSxAkSIuh4JV",
        "colab_type": "code",
        "colab": {
          "base_uri": "https://localhost:8080/",
          "height": 204
        },
        "outputId": "94b5e9a3-911e-48ac-c2a8-15e5fc4b02fc"
      },
      "source": [
        "data.head()"
      ],
      "execution_count": 3,
      "outputs": [
        {
          "output_type": "execute_result",
          "data": {
            "text/html": [
              "<div>\n",
              "<style scoped>\n",
              "    .dataframe tbody tr th:only-of-type {\n",
              "        vertical-align: middle;\n",
              "    }\n",
              "\n",
              "    .dataframe tbody tr th {\n",
              "        vertical-align: top;\n",
              "    }\n",
              "\n",
              "    .dataframe thead th {\n",
              "        text-align: right;\n",
              "    }\n",
              "</style>\n",
              "<table border=\"1\" class=\"dataframe\">\n",
              "  <thead>\n",
              "    <tr style=\"text-align: right;\">\n",
              "      <th></th>\n",
              "      <th>emotion</th>\n",
              "      <th>pixels</th>\n",
              "      <th>Usage</th>\n",
              "    </tr>\n",
              "  </thead>\n",
              "  <tbody>\n",
              "    <tr>\n",
              "      <th>0</th>\n",
              "      <td>0</td>\n",
              "      <td>70 80 82 72 58 58 60 63 54 58 60 48 89 115 121...</td>\n",
              "      <td>Training</td>\n",
              "    </tr>\n",
              "    <tr>\n",
              "      <th>1</th>\n",
              "      <td>0</td>\n",
              "      <td>151 150 147 155 148 133 111 140 170 174 182 15...</td>\n",
              "      <td>Training</td>\n",
              "    </tr>\n",
              "    <tr>\n",
              "      <th>2</th>\n",
              "      <td>2</td>\n",
              "      <td>231 212 156 164 174 138 161 173 182 200 106 38...</td>\n",
              "      <td>Training</td>\n",
              "    </tr>\n",
              "    <tr>\n",
              "      <th>3</th>\n",
              "      <td>4</td>\n",
              "      <td>24 32 36 30 32 23 19 20 30 41 21 22 32 34 21 1...</td>\n",
              "      <td>Training</td>\n",
              "    </tr>\n",
              "    <tr>\n",
              "      <th>4</th>\n",
              "      <td>6</td>\n",
              "      <td>4 0 0 0 0 0 0 0 0 0 0 0 3 15 23 28 48 50 58 84...</td>\n",
              "      <td>Training</td>\n",
              "    </tr>\n",
              "  </tbody>\n",
              "</table>\n",
              "</div>"
            ],
            "text/plain": [
              "   emotion                                             pixels     Usage\n",
              "0        0  70 80 82 72 58 58 60 63 54 58 60 48 89 115 121...  Training\n",
              "1        0  151 150 147 155 148 133 111 140 170 174 182 15...  Training\n",
              "2        2  231 212 156 164 174 138 161 173 182 200 106 38...  Training\n",
              "3        4  24 32 36 30 32 23 19 20 30 41 21 22 32 34 21 1...  Training\n",
              "4        6  4 0 0 0 0 0 0 0 0 0 0 0 3 15 23 28 48 50 58 84...  Training"
            ]
          },
          "metadata": {
            "tags": []
          },
          "execution_count": 3
        }
      ]
    },
    {
      "cell_type": "code",
      "metadata": {
        "id": "otEpRc27dD3O",
        "colab_type": "code",
        "colab": {}
      },
      "source": [
        "width, height = 48, 48\n",
        "\n",
        "images = []\n",
        "lables = []\n",
        "for index,row in data.iterrows():\n",
        "    pixels=np.asarray(list(row['pixels'].split(' ')),dtype=np.uint8)\n",
        "    img=pixels.reshape((width,height))\n",
        "    images.append(img)\n",
        "    lables.append(row['emotion'])"
      ],
      "execution_count": 0,
      "outputs": []
    },
    {
      "cell_type": "code",
      "metadata": {
        "id": "hrJ5VulDdpiB",
        "colab_type": "code",
        "colab": {
          "base_uri": "https://localhost:8080/",
          "height": 34
        },
        "outputId": "96c9ce86-316f-4ccf-c1a8-f2a1daaaa83d"
      },
      "source": [
        "print(len(lables))\n"
      ],
      "execution_count": 5,
      "outputs": [
        {
          "output_type": "stream",
          "text": [
            "35887\n"
          ],
          "name": "stdout"
        }
      ]
    },
    {
      "cell_type": "code",
      "metadata": {
        "id": "PLJ2JzICMe9H",
        "colab_type": "code",
        "colab": {}
      },
      "source": [
        "width, height = 48, 48\n",
        "\n",
        "train_images = []\n",
        "test_images = []\n",
        "train_labels = []\n",
        "test_labels = []\n",
        "train_data = []\n",
        "test_data = []\n",
        "for index,row in data.iterrows():\n",
        "    pixels=np.asarray(list(row['pixels'].split(' ')),dtype=np.uint8)\n",
        "    img=pixels.reshape((width,height))\n",
        "    if row['Usage'] == 'Training':\n",
        "      train_labels.append(row['emotion'])\n",
        "      train_images.append(img)\n",
        "      train_data.append(img)\n",
        "      #train_data.append(row['emotion'])\n",
        "    else :\n",
        "      test_labels.append(row['emotion'])\n",
        "      test_images.append(img)\n",
        "      test_data.append(img)\n",
        "      #test_data.append(row['emotion'])\n",
        "\n",
        "for index,row in data.iterrows():\n",
        "  if row['Usage'] == 'Training':\n",
        "    train_data.append(row['emotion'])\n",
        "  else :\n",
        "    test_data.append(row['emotion'])"
      ],
      "execution_count": 0,
      "outputs": []
    },
    {
      "cell_type": "code",
      "metadata": {
        "id": "-SpeIDSljSWj",
        "colab_type": "code",
        "colab": {}
      },
      "source": [
        "\n",
        "BATCH_SIZE = 512\n",
        "\n",
        "class MyDataset(Dataset):\n",
        "    def __init__(self, data, targets, transform=None):\n",
        "        self.data = data\n",
        "        #self.targets = torch.LongTensor(targets)\n",
        "        self.targets = targets\n",
        "        self.transform = transform\n",
        "\n",
        "    def __getitem__(self, index):\n",
        "        x = self.data[index]\n",
        "        y = self.targets[index]\n",
        "    \n",
        "        if self.transform:\n",
        "            #x = Image.fromarray(self.data[index].astype(np.uint8).transpose(1,2,0))\n",
        "            x = self.transform(x)\n",
        "\n",
        "        return x, y\n",
        "\n",
        "    def __len__(self):\n",
        "        return len(self.data)\n",
        "\n",
        "    def __iter__(self):\n",
        "        return self\n",
        "\n",
        "transform = transforms.Compose([transforms.ToTensor()])#,transforms.Normalize(mean = [0.485], std=[0.229])])\n",
        "\n"
      ],
      "execution_count": 0,
      "outputs": []
    },
    {
      "cell_type": "code",
      "metadata": {
        "id": "6XLtoHoGAhJ9",
        "colab_type": "code",
        "colab": {}
      },
      "source": [
        "trainset = MyDataset(train_images,train_labels, transform=transform)\n",
        "trainloader = DataLoader(trainset, batch_size=BATCH_SIZE)#, shuffle=True, num_workers=2)"
      ],
      "execution_count": 0,
      "outputs": []
    },
    {
      "cell_type": "code",
      "metadata": {
        "id": "cY3JU_MGAhut",
        "colab_type": "code",
        "colab": {}
      },
      "source": [
        "testset = MyDataset(test_images, test_labels, transform=transform)\n",
        "\n",
        "testloader = DataLoader(testset, batch_size=BATCH_SIZE)#, shuffle=False, num_workers=2)"
      ],
      "execution_count": 0,
      "outputs": []
    },
    {
      "cell_type": "code",
      "metadata": {
        "id": "G_wEX43R6ltY",
        "colab_type": "code",
        "colab": {
          "base_uri": "https://localhost:8080/",
          "height": 34
        },
        "outputId": "ed87719e-46ea-4c65-c67a-a3264e9b8b86"
      },
      "source": [
        "len(trainloader)"
      ],
      "execution_count": 10,
      "outputs": [
        {
          "output_type": "execute_result",
          "data": {
            "text/plain": [
              "57"
            ]
          },
          "metadata": {
            "tags": []
          },
          "execution_count": 10
        }
      ]
    },
    {
      "cell_type": "code",
      "metadata": {
        "id": "gB1Oj16Ares5",
        "colab_type": "code",
        "colab": {
          "base_uri": "https://localhost:8080/",
          "height": 34
        },
        "outputId": "5435286f-fa2e-4476-f927-e2b331d8a2e8"
      },
      "source": [
        "dataiter = iter(trainloader)\n",
        "images, labels = dataiter.next()\n",
        "images.size()"
      ],
      "execution_count": 11,
      "outputs": [
        {
          "output_type": "execute_result",
          "data": {
            "text/plain": [
              "torch.Size([512, 1, 48, 48])"
            ]
          },
          "metadata": {
            "tags": []
          },
          "execution_count": 11
        }
      ]
    },
    {
      "cell_type": "code",
      "metadata": {
        "id": "sNkfPnDFRGFi",
        "colab_type": "code",
        "colab": {
          "base_uri": "https://localhost:8080/",
          "height": 34
        },
        "outputId": "fe72630a-bc75-4a66-979c-2ce5e06bf358"
      },
      "source": [
        "dataiter = iter(testloader)\n",
        "images, labels = dataiter.next()\n",
        "images.size()"
      ],
      "execution_count": 12,
      "outputs": [
        {
          "output_type": "execute_result",
          "data": {
            "text/plain": [
              "torch.Size([512, 1, 48, 48])"
            ]
          },
          "metadata": {
            "tags": []
          },
          "execution_count": 12
        }
      ]
    },
    {
      "cell_type": "code",
      "metadata": {
        "id": "wgjQ4k16sdb3",
        "colab_type": "code",
        "colab": {}
      },
      "source": [
        "def imshow(img):\n",
        "    #img = img / 2 + 0.5     \n",
        "    npimg = img.numpy()\n",
        "    print(npimg.shape)\n",
        "    print(np.transpose(npimg).shape)\n",
        "    plt.imshow(np.transpose(npimg, (1, 2, 0)))"
      ],
      "execution_count": 0,
      "outputs": []
    },
    {
      "cell_type": "code",
      "metadata": {
        "id": "uFZb_TQRsiRp",
        "colab_type": "code",
        "colab": {
          "base_uri": "https://localhost:8080/",
          "height": 303
        },
        "outputId": "0c868dfe-a09b-478d-f21f-a89fc6e61e3c"
      },
      "source": [
        "imshow(torchvision.utils.make_grid(images))"
      ],
      "execution_count": 14,
      "outputs": [
        {
          "output_type": "stream",
          "text": [
            "(3, 3202, 402)\n",
            "(402, 3202, 3)\n"
          ],
          "name": "stdout"
        },
        {
          "output_type": "display_data",
          "data": {
            "image/png": "[encoded data removed]",
            "text/plain": [
              "<Figure size 432x288 with 1 Axes>"
            ]
          },
          "metadata": {
            "tags": [],
            "needs_background": "light"
          }
        }
      ]
    },
    {
      "cell_type": "code",
      "metadata": {
        "id": "kaWvcaGmnSlu",
        "colab_type": "code",
        "colab": {}
      },
      "source": [
        "# parameters \n",
        "# N_STEPS = 48\n",
        "# N_INPUTS = 48\n",
        "# N_NEURONS = 48\n",
        "# N_OUTPUTS = 7\n",
        "# N_EPHOCS = 700\n",
        "\n",
        "N_STEPS = 48\n",
        "N_INPUTS = 48\n",
        "N_NEURONS = 100\n",
        "N_OUTPUTS = 7\n",
        "N_EPHOCS = 100\n",
        "#higher the epoches, highesr the accuracy."
      ],
      "execution_count": 0,
      "outputs": []
    },
    {
      "cell_type": "code",
      "metadata": {
        "id": "8rKr2eFLX3DL",
        "colab_type": "code",
        "colab": {}
      },
      "source": [
        "class ImageRNN(nn.Module):\n",
        "    \n",
        "    \n",
        "    def __init__(self, batch_size, n_steps, n_inputs, n_neurons, n_outputs):\n",
        "        super(ImageRNN, self).__init__()\n",
        "        \n",
        "        self.n_neurons = n_neurons\n",
        "        self.batch_size = batch_size\n",
        "        self.n_steps = n_steps\n",
        "        self.n_inputs = n_inputs\n",
        "        self.n_outputs = n_outputs\n",
        "        \n",
        "        self.basic_rnn = nn.RNN(self.n_inputs, self.n_neurons) \n",
        "        \n",
        "        self.FC = nn.Linear(self.n_neurons, self.n_outputs)\n",
        "    \n",
        "    \n",
        "    def init_hidden(self,):\n",
        "        return (torch.zeros(1, self.batch_size, self.n_neurons))\n",
        "        \n",
        "    def forward(self, X):\n",
        "        X = X.permute(1, 0, 2) \n",
        "        \n",
        "        self.batch_size = X.size(1)\n",
        "        self.hidden = self.init_hidden()\n",
        "        \n",
        "        lstm_out, self.hidden = self.basic_rnn(X, self.hidden)      \n",
        "        out = self.FC(self.hidden)\n",
        "        \n",
        "        return out.view(-1, self.n_outputs) "
      ],
      "execution_count": 0,
      "outputs": []
    },
    {
      "cell_type": "code",
      "metadata": {
        "id": "kdmflVvWthuM",
        "colab_type": "code",
        "colab": {
          "base_uri": "https://localhost:8080/",
          "height": 136
        },
        "outputId": "f130a0b6-e501-4781-dc55-ce98a7900258"
      },
      "source": [
        "# Testing the model\n",
        "      \n",
        "dataiter = iter(trainloader)\n",
        "images, labels = dataiter.next()\n",
        "model = ImageRNN(BATCH_SIZE, N_STEPS, N_INPUTS, N_NEURONS, N_OUTPUTS)\n",
        "logits = model(images.view(-1, 48,48))\n",
        "print(logits[0:6])"
      ],
      "execution_count": 17,
      "outputs": [
        {
          "output_type": "stream",
          "text": [
            "tensor([[-0.3252, -0.1380, -0.0477,  0.0710,  0.2662,  0.0812, -0.0957],\n",
            "        [-0.2647, -0.0973, -0.0890,  0.0760,  0.3252,  0.0829, -0.1887],\n",
            "        [-0.1387, -0.0142, -0.1182,  0.0436,  0.3201,  0.0514, -0.1828],\n",
            "        [-0.3321, -0.1385, -0.1296,  0.0030,  0.3612,  0.0423, -0.1167],\n",
            "        [-0.1945,  0.0194, -0.0979,  0.0886,  0.1002,  0.0729, -0.1440],\n",
            "        [-0.2709, -0.0609, -0.1162,  0.0190,  0.2178,  0.0320, -0.1619]],\n",
            "       grad_fn=<SliceBackward>)\n"
          ],
          "name": "stdout"
        }
      ]
    },
    {
      "cell_type": "code",
      "metadata": {
        "id": "85ll9oBatp9R",
        "colab_type": "code",
        "colab": {}
      },
      "source": [
        "# Training the model\n",
        "   \n",
        "import torch.optim as optim\n",
        "\n",
        "\n",
        "\n",
        "# Model instance\n",
        "model = ImageRNN(BATCH_SIZE, N_STEPS, N_INPUTS, N_NEURONS, N_OUTPUTS)\n",
        "criterion = nn.CrossEntropyLoss()\n",
        "# adam optimizer\n",
        "optimizer = optim.Adam(model.parameters(), lr=0.001)\n",
        "\n",
        "def get_accuracy(logit, target, batch_size):\n",
        "    ''' Obtain accuracy for training round '''\n",
        "    corrects = (torch.max(logit, 1)[1].view(target.size()).data == target.data).sum()\n",
        "    accuracy = 100.0 * corrects/batch_size\n",
        "    return accuracy.item()"
      ],
      "execution_count": 0,
      "outputs": []
    },
    {
      "cell_type": "code",
      "metadata": {
        "id": "RQ730Vk4tthQ",
        "colab_type": "code",
        "colab": {
          "base_uri": "https://localhost:8080/",
          "height": 1000
        },
        "outputId": "9d46e83b-1100-4236-bc20-055bdf9314be"
      },
      "source": [
        "for epoch in range(N_EPHOCS):  # loop over the dataset multiple times\n",
        "    train_running_loss = 0.0\n",
        "    train_acc = 0.0\n",
        "\n",
        "    model.train()\n",
        "    \n",
        "    # TRAINING ROUND\n",
        "    for i, data in enumerate(trainloader):\n",
        "        # zero the parameter gradients\n",
        "        optimizer.zero_grad()\n",
        "        \n",
        "        # reset hidden states\n",
        "        model.hidden = model.init_hidden() \n",
        "        \n",
        "        # get the inputs\n",
        "        inputs, labels = data\n",
        "        inputs = inputs.view(-1, 48,48) \n",
        "\n",
        "        # forward + backward + optimize\n",
        "        outputs = model(inputs)\n",
        "\n",
        "        loss = criterion(outputs, labels)\n",
        "        loss.backward()\n",
        "        optimizer.step()\n",
        "\n",
        "        train_running_loss += loss.detach().item()\n",
        "        train_acc += get_accuracy(outputs, labels, BATCH_SIZE)\n",
        "    \n",
        "\n",
        "    model.eval()\n",
        "    print('Epoch: %d | Loss: %.4f | Train Accuracy: %.2f' \n",
        "         %(epoch, train_running_loss/i, train_acc/i))\n",
        "# print('Epoch: %d | Loss: %.4f | Train Accuracy: %.2f' \n",
        "#           %(epoch, train_running_loss/i, train_acc/i))    \n",
        "\n",
        "\n",
        "# TEST ACCURACY\n",
        "test_acc = 0.0\n",
        "predict = []\n",
        "label = []\n",
        "for i, data in enumerate(testloader, 0):\n",
        "    inputs, labels = data\n",
        "    inputs = inputs.view(-1, 48, 48)\n",
        "    \n",
        "    outputs = model(inputs)\n",
        "    \n",
        "    test_acc += get_accuracy(outputs, labels, BATCH_SIZE)\n",
        "\n",
        "    preds = torch.argmax(outputs, 1)\n",
        "    pred = preds.tolist()\n",
        "    lab = labels.tolist()\n",
        "    predict.extend(pred)\n",
        "    label.extend(lab)\n",
        "    \n",
        "\n",
        "print('Test Accuracy: %.2f'%(test_acc / i))\n"
      ],
      "execution_count": 19,
      "outputs": [
        {
          "output_type": "stream",
          "text": [
            "Epoch: 0 | Loss: 1.8400 | Train Accuracy: 25.40\n",
            "Epoch: 1 | Loss: 1.7988 | Train Accuracy: 27.89\n",
            "Epoch: 2 | Loss: 1.7804 | Train Accuracy: 29.15\n",
            "Epoch: 3 | Loss: 1.7517 | Train Accuracy: 31.22\n",
            "Epoch: 4 | Loss: 1.7410 | Train Accuracy: 32.07\n",
            "Epoch: 5 | Loss: 1.7332 | Train Accuracy: 32.34\n",
            "Epoch: 6 | Loss: 1.7204 | Train Accuracy: 33.14\n",
            "Epoch: 7 | Loss: 1.7109 | Train Accuracy: 33.56\n",
            "Epoch: 8 | Loss: 1.7090 | Train Accuracy: 33.91\n",
            "Epoch: 9 | Loss: 1.7067 | Train Accuracy: 33.95\n",
            "Epoch: 10 | Loss: 1.7025 | Train Accuracy: 34.15\n",
            "Epoch: 11 | Loss: 1.6945 | Train Accuracy: 34.58\n",
            "Epoch: 12 | Loss: 1.6931 | Train Accuracy: 34.57\n",
            "Epoch: 13 | Loss: 1.6896 | Train Accuracy: 34.63\n",
            "Epoch: 14 | Loss: 1.6895 | Train Accuracy: 34.68\n",
            "Epoch: 15 | Loss: 1.6881 | Train Accuracy: 34.67\n",
            "Epoch: 16 | Loss: 1.6878 | Train Accuracy: 34.69\n",
            "Epoch: 17 | Loss: 1.6824 | Train Accuracy: 34.96\n",
            "Epoch: 18 | Loss: 1.6780 | Train Accuracy: 35.17\n",
            "Epoch: 19 | Loss: 1.6786 | Train Accuracy: 35.36\n",
            "Epoch: 20 | Loss: 1.6765 | Train Accuracy: 35.44\n",
            "Epoch: 21 | Loss: 1.6713 | Train Accuracy: 35.57\n",
            "Epoch: 22 | Loss: 1.6691 | Train Accuracy: 35.93\n",
            "Epoch: 23 | Loss: 1.6659 | Train Accuracy: 36.00\n",
            "Epoch: 24 | Loss: 1.6572 | Train Accuracy: 36.45\n",
            "Epoch: 25 | Loss: 1.6483 | Train Accuracy: 36.82\n",
            "Epoch: 26 | Loss: 1.6422 | Train Accuracy: 36.97\n",
            "Epoch: 27 | Loss: 1.6394 | Train Accuracy: 37.13\n",
            "Epoch: 28 | Loss: 1.6460 | Train Accuracy: 36.88\n",
            "Epoch: 29 | Loss: 1.6389 | Train Accuracy: 37.16\n",
            "Epoch: 30 | Loss: 1.6426 | Train Accuracy: 36.96\n",
            "Epoch: 31 | Loss: 1.6317 | Train Accuracy: 37.52\n",
            "Epoch: 32 | Loss: 1.6244 | Train Accuracy: 37.63\n",
            "Epoch: 33 | Loss: 1.6238 | Train Accuracy: 37.65\n",
            "Epoch: 34 | Loss: 1.6220 | Train Accuracy: 37.72\n",
            "Epoch: 35 | Loss: 1.6125 | Train Accuracy: 38.02\n",
            "Epoch: 36 | Loss: 1.6088 | Train Accuracy: 38.39\n",
            "Epoch: 37 | Loss: 1.6019 | Train Accuracy: 38.55\n",
            "Epoch: 38 | Loss: 1.6025 | Train Accuracy: 38.58\n",
            "Epoch: 39 | Loss: 1.6023 | Train Accuracy: 38.54\n",
            "Epoch: 40 | Loss: 1.5994 | Train Accuracy: 38.76\n",
            "Epoch: 41 | Loss: 1.5957 | Train Accuracy: 38.73\n",
            "Epoch: 42 | Loss: 1.5943 | Train Accuracy: 38.87\n",
            "Epoch: 43 | Loss: 1.5860 | Train Accuracy: 39.05\n",
            "Epoch: 44 | Loss: 1.5867 | Train Accuracy: 38.83\n",
            "Epoch: 45 | Loss: 1.5839 | Train Accuracy: 39.07\n",
            "Epoch: 46 | Loss: 1.5762 | Train Accuracy: 39.52\n",
            "Epoch: 47 | Loss: 1.5768 | Train Accuracy: 39.22\n",
            "Epoch: 48 | Loss: 1.5769 | Train Accuracy: 39.42\n",
            "Epoch: 49 | Loss: 1.5712 | Train Accuracy: 39.60\n",
            "Epoch: 50 | Loss: 1.5688 | Train Accuracy: 39.68\n",
            "Epoch: 51 | Loss: 1.5721 | Train Accuracy: 39.58\n",
            "Epoch: 52 | Loss: 1.5752 | Train Accuracy: 39.55\n",
            "Epoch: 53 | Loss: 1.5661 | Train Accuracy: 39.89\n",
            "Epoch: 54 | Loss: 1.5684 | Train Accuracy: 39.81\n",
            "Epoch: 55 | Loss: 1.5667 | Train Accuracy: 39.76\n",
            "Epoch: 56 | Loss: 1.5638 | Train Accuracy: 39.83\n",
            "Epoch: 57 | Loss: 1.5679 | Train Accuracy: 39.65\n",
            "Epoch: 58 | Loss: 1.5808 | Train Accuracy: 39.29\n",
            "Epoch: 59 | Loss: 1.5625 | Train Accuracy: 39.95\n",
            "Epoch: 60 | Loss: 1.5613 | Train Accuracy: 40.07\n",
            "Epoch: 61 | Loss: 1.5621 | Train Accuracy: 40.14\n",
            "Epoch: 62 | Loss: 1.5542 | Train Accuracy: 40.29\n",
            "Epoch: 63 | Loss: 1.5625 | Train Accuracy: 39.67\n",
            "Epoch: 64 | Loss: 1.5545 | Train Accuracy: 40.21\n",
            "Epoch: 65 | Loss: 1.5442 | Train Accuracy: 40.76\n",
            "Epoch: 66 | Loss: 1.5438 | Train Accuracy: 40.82\n",
            "Epoch: 67 | Loss: 1.5413 | Train Accuracy: 40.92\n",
            "Epoch: 68 | Loss: 1.5453 | Train Accuracy: 40.57\n",
            "Epoch: 69 | Loss: 1.5462 | Train Accuracy: 40.62\n",
            "Epoch: 70 | Loss: 1.5512 | Train Accuracy: 40.14\n",
            "Epoch: 71 | Loss: 1.5455 | Train Accuracy: 40.68\n",
            "Epoch: 72 | Loss: 1.5535 | Train Accuracy: 40.52\n",
            "Epoch: 73 | Loss: 1.5358 | Train Accuracy: 41.14\n",
            "Epoch: 74 | Loss: 1.5359 | Train Accuracy: 40.98\n",
            "Epoch: 75 | Loss: 1.5314 | Train Accuracy: 41.30\n",
            "Epoch: 76 | Loss: 1.5265 | Train Accuracy: 41.41\n",
            "Epoch: 77 | Loss: 1.5336 | Train Accuracy: 41.11\n",
            "Epoch: 78 | Loss: 1.5299 | Train Accuracy: 41.22\n",
            "Epoch: 79 | Loss: 1.5296 | Train Accuracy: 41.65\n",
            "Epoch: 80 | Loss: 1.5310 | Train Accuracy: 41.31\n",
            "Epoch: 81 | Loss: 1.5265 | Train Accuracy: 41.39\n",
            "Epoch: 82 | Loss: 1.5232 | Train Accuracy: 41.49\n",
            "Epoch: 83 | Loss: 1.5460 | Train Accuracy: 40.76\n",
            "Epoch: 84 | Loss: 1.5330 | Train Accuracy: 41.21\n",
            "Epoch: 85 | Loss: 1.5314 | Train Accuracy: 41.47\n",
            "Epoch: 86 | Loss: 1.5284 | Train Accuracy: 41.66\n",
            "Epoch: 87 | Loss: 1.5239 | Train Accuracy: 41.81\n",
            "Epoch: 88 | Loss: 1.5220 | Train Accuracy: 41.89\n",
            "Epoch: 89 | Loss: 1.5172 | Train Accuracy: 42.04\n",
            "Epoch: 90 | Loss: 1.5160 | Train Accuracy: 41.93\n",
            "Epoch: 91 | Loss: 1.5189 | Train Accuracy: 42.14\n",
            "Epoch: 92 | Loss: 1.5153 | Train Accuracy: 42.08\n",
            "Epoch: 93 | Loss: 1.5233 | Train Accuracy: 41.86\n",
            "Epoch: 94 | Loss: 1.5252 | Train Accuracy: 41.64\n",
            "Epoch: 95 | Loss: 1.5308 | Train Accuracy: 41.31\n",
            "Epoch: 96 | Loss: 1.5179 | Train Accuracy: 41.89\n",
            "Epoch: 97 | Loss: 1.5176 | Train Accuracy: 41.99\n",
            "Epoch: 98 | Loss: 1.5222 | Train Accuracy: 41.89\n",
            "Epoch: 99 | Loss: 1.5236 | Train Accuracy: 41.68\n",
            "Test Accuracy: 38.35\n"
          ],
          "name": "stdout"
        }
      ]
    },
    {
      "cell_type": "code",
      "metadata": {
        "id": "2ew47uHG4ug7",
        "colab_type": "code",
        "colab": {
          "base_uri": "https://localhost:8080/",
          "height": 71
        },
        "outputId": "cd007a63-ae7b-4586-f28a-e9907a5c2a47"
      },
      "source": [
        "print(label)\n",
        "print(predict)"
      ],
      "execution_count": 20,
      "outputs": [
        {
          "output_type": "stream",
          "text": [
            "[0, 1, 4, 6, 3, 3, 2, 0, 2, 0, 3, 0, 4, 2, 6, 2, 5, 0, 5, 3, 2, 5, 0, 4, 0, 2, 4, 4, 0, 2, 3, 6, 3, 6, 0, 4, 6, 2, 6, 3, 0, 4, 4, 2, 6, 3, 5, 3, 5, 6, 0, 3, 5, 4, 4, 3, 4, 2, 5, 3, 6, 3, 4, 3, 5, 3, 5, 4, 2, 6, 0, 5, 6, 6, 2, 6, 5, 6, 4, 4, 0, 0, 1, 3, 5, 4, 3, 3, 3, 3, 6, 0, 6, 4, 5, 2, 3, 3, 3, 0, 3, 6, 0, 3, 2, 3, 6, 6, 5, 3, 3, 0, 0, 2, 3, 2, 3, 6, 2, 6, 5, 0, 0, 2, 4, 6, 3, 6, 5, 5, 2, 0, 2, 6, 5, 5, 5, 6, 2, 6, 6, 3, 1, 4, 4, 6, 3, 3, 3, 2, 2, 0, 5, 3, 5, 5, 4, 5, 0, 3, 0, 3, 3, 0, 6, 6, 3, 4, 5, 3, 6, 4, 5, 6, 0, 0, 0, 4, 4, 5, 4, 3, 5, 3, 3, 0, 4, 3, 3, 3, 4, 6, 5, 5, 3, 6, 5, 6, 0, 1, 3, 6, 2, 3, 6, 2, 0, 4, 2, 2, 6, 0, 4, 4, 4, 2, 5, 4, 0, 3, 3, 4, 5, 0, 0, 3, 5, 6, 4, 3, 1, 6, 5, 2, 3, 4, 3, 0, 0, 6, 3, 6, 6, 0, 1, 3, 3, 3, 0, 6, 4, 2, 4, 3, 3, 6, 5, 4, 2, 6, 0, 1, 0, 6, 2, 0, 0, 3, 3, 4, 2, 6, 5, 3, 5, 3, 4, 5, 1, 6, 3, 3, 6, 2, 4, 0, 0, 0, 6, 2, 5, 3, 6, 4, 3, 6, 2, 6, 6, 5, 6, 4, 2, 3, 0, 3, 5, 3, 3, 3, 3, 3, 2, 6, 1, 0, 4, 2, 2, 3, 4, 2, 3, 6, 0, 4, 0, 3, 3, 5, 3, 3, 0, 3, 2, 3, 5, 4, 0, 3, 4, 5, 2, 4, 0, 6, 6, 3, 2, 4, 6, 0, 6, 3, 4, 4, 3, 0, 3, 2, 2, 2, 3, 6, 5, 3, 3, 3, 2, 4, 3, 6, 4, 4, 4, 2, 0, 5, 4, 4, 0, 5, 3, 2, 3, 6, 3, 5, 4, 1, 6, 6, 3, 5, 0, 5, 2, 2, 2, 0, 0, 5, 3, 4, 2, 4, 5, 5, 5, 5, 0, 5, 4, 3, 3, 3, 6, 2, 5, 4, 6, 3, 5, 0, 6, 0, 4, 3, 3, 4, 4, 4, 4, 6, 3, 6, 6, 2, 3, 0, 0, 4, 6, 2, 0, 2, 0, 5, 2, 1, 0, 3, 6, 4, 4, 5, 2, 4, 0, 6, 5, 5, 0, 3, 6, 4, 2, 6, 3, 2, 3, 5, 6, 6, 6, 1, 3, 6, 2, 4, 0, 6, 3, 0, 6, 4, 6, 5, 3, 6, 2, 2, 3, 0, 4, 4, 5, 4, 4, 2, 6, 2, 3, 5, 0, 3, 3, 6, 0, 4, 2, 3, 0, 5, 2, 3, 5, 4, 0, 4, 3, 6, 4, 6, 3, 3, 3, 5, 4, 2, 0, 3, 5, 5, 4, 6, 6, 6, 5, 3, 2, 6, 4, 3, 5, 0, 2, 6, 3, 3, 0, 2, 4, 2, 0, 4, 2, 0, 0, 6, 1, 4, 5, 0, 2, 5, 6, 5, 2, 0, 0, 3, 6, 0, 5, 2, 2, 3, 2, 5, 2, 3, 2, 3, 5, 2, 4, 5, 6, 4, 6, 3, 4, 6, 3, 6, 4, 4, 4, 0, 4, 6, 6, 6, 3, 4, 2, 4, 4, 4, 0, 5, 3, 4, 5, 6, 0, 6, 2, 2, 3, 2, 4, 3, 3, 3, 4, 2, 3, 3, 6, 3, 0, 4, 3, 0, 5, 2, 0, 0, 2, 4, 3, 6, 3, 5, 3, 5, 5, 3, 2, 2, 2, 3, 2, 2, 3, 2, 4, 5, 4, 3, 3, 3, 3, 5, 6, 2, 4, 0, 4, 6, 4, 2, 4, 6, 0, 4, 4, 6, 2, 2, 5, 6, 4, 6, 6, 3, 6, 3, 3, 5, 4, 5, 6, 3, 2, 3, 2, 0, 2, 3, 2, 4, 5, 0, 3, 0, 3, 3, 0, 4, 2, 3, 3, 3, 4, 2, 3, 6, 2, 3, 3, 0, 4, 0, 0, 2, 6, 6, 3, 2, 6, 6, 3, 2, 6, 4, 3, 3, 6, 0, 0, 6, 3, 2, 0, 3, 5, 3, 3, 3, 0, 2, 6, 3, 0, 5, 3, 4, 3, 0, 0, 3, 2, 3, 3, 6, 0, 2, 3, 0, 4, 2, 3, 6, 3, 6, 6, 2, 4, 6, 2, 2, 0, 6, 3, 2, 2, 2, 0, 6, 3, 4, 0, 3, 6, 5, 0, 5, 3, 4, 5, 1, 2, 3, 5, 5, 6, 4, 3, 0, 4, 6, 0, 4, 6, 3, 0, 2, 4, 2, 4, 2, 5, 6, 5, 2, 5, 4, 0, 5, 2, 5, 2, 0, 6, 4, 1, 0, 6, 4, 5, 4, 4, 0, 3, 6, 5, 5, 6, 4, 4, 6, 2, 2, 4, 3, 2, 5, 4, 5, 0, 0, 4, 0, 1, 4, 3, 3, 3, 4, 0, 0, 4, 4, 4, 5, 3, 0, 3, 6, 6, 6, 5, 4, 2, 0, 4, 5, 0, 5, 6, 4, 2, 0, 0, 3, 6, 6, 6, 2, 2, 3, 5, 0, 3, 5, 4, 5, 5, 4, 6, 4, 4, 6, 4, 6, 4, 4, 2, 1, 3, 4, 4, 3, 4, 6, 6, 4, 6, 0, 5, 4, 3, 4, 3, 5, 3, 3, 3, 3, 6, 4, 0, 4, 2, 6, 3, 3, 2, 2, 0, 2, 2, 6, 4, 6, 6, 3, 0, 2, 0, 5, 5, 2, 0, 2, 5, 3, 3, 3, 3, 0, 6, 2, 0, 6, 4, 2, 4, 5, 5, 4, 4, 6, 3, 3, 3, 2, 3, 6, 2, 6, 4, 6, 2, 0, 3, 3, 2, 4, 6, 2, 2, 6, 4, 2, 3, 2, 0, 2, 6, 3, 2, 3, 6, 2, 3, 4, 6, 0, 2, 1, 2, 0, 2, 2, 4, 2, 5, 3, 3, 3, 4, 3, 3, 0, 5, 3, 4, 6, 3, 6, 2, 6, 4, 4, 4, 6, 3, 6, 4, 2, 5, 3, 4, 3, 3, 1, 3, 3, 5, 3, 3, 6, 6, 3, 2, 3, 4, 4, 4, 3, 4, 2, 0, 4, 6, 0, 3, 3, 5, 4, 2, 6, 2, 5, 5, 5, 0, 3, 3, 3, 5, 4, 6, 3, 0, 3, 6, 0, 3, 2, 2, 1, 0, 4, 0, 0, 4, 6, 3, 6, 5, 5, 4, 3, 2, 3, 5, 0, 3, 4, 5, 3, 4, 3, 3, 0, 2, 6, 6, 3, 3, 3, 5, 2, 3, 6, 5, 0, 0, 4, 6, 4, 0, 3, 6, 4, 6, 0, 4, 0, 5, 5, 3, 0, 3, 0, 2, 2, 2, 6, 4, 5, 4, 4, 6, 0, 2, 2, 3, 5, 2, 5, 6, 5, 2, 2, 3, 6, 6, 2, 6, 3, 3, 5, 4, 3, 2, 4, 0, 6, 3, 5, 3, 2, 3, 2, 5, 3, 2, 2, 6, 4, 6, 6, 3, 2, 3, 5, 6, 4, 2, 2, 2, 3, 5, 6, 0, 3, 0, 3, 0, 3, 2, 4, 4, 3, 6, 3, 4, 4, 6, 6, 3, 3, 0, 6, 4, 0, 1, 5, 6, 5, 5, 4, 5, 3, 3, 4, 3, 0, 0, 4, 3, 2, 3, 6, 6, 4, 0, 4, 4, 3, 3, 0, 0, 6, 3, 0, 3, 4, 2, 5, 4, 4, 3, 3, 5, 2, 3, 3, 3, 2, 3, 6, 5, 4, 3, 4, 4, 0, 3, 0, 5, 3, 6, 5, 0, 6, 3, 6, 2, 2, 0, 3, 4, 6, 6, 6, 3, 2, 4, 0, 4, 0, 2, 0, 2, 6, 3, 4, 3, 3, 4, 6, 5, 6, 6, 2, 6, 4, 2, 6, 4, 5, 0, 5, 3, 4, 6, 3, 6, 6, 6, 4, 3, 0, 0, 6, 3, 2, 6, 3, 6, 0, 5, 5, 3, 2, 5, 6, 5, 2, 6, 2, 2, 2, 0, 4, 5, 0, 3, 2, 0, 2, 5, 4, 3, 4, 3, 0, 0, 4, 3, 6, 3, 3, 3, 6, 3, 3, 6, 4, 3, 3, 3, 5, 6, 6, 3, 5, 1, 3, 2, 3, 6, 4, 3, 0, 6, 6, 4, 2, 6, 2, 3, 0, 2, 4, 3, 0, 4, 4, 3, 5, 4, 4, 5, 2, 1, 5, 3, 4, 2, 6, 3, 6, 6, 4, 2, 5, 0, 4, 3, 2, 6, 3, 6, 6, 6, 4, 3, 3, 0, 3, 6, 3, 6, 4, 0, 3, 5, 5, 3, 3, 5, 3, 4, 3, 4, 3, 4, 5, 3, 3, 3, 3, 6, 5, 2, 5, 3, 0, 6, 2, 6, 6, 6, 6, 3, 5, 6, 5, 2, 2, 2, 4, 5, 6, 4, 6, 0, 4, 4, 3, 3, 6, 4, 6, 3, 2, 5, 4, 5, 4, 0, 3, 6, 0, 4, 2, 4, 6, 0, 3, 2, 6, 2, 2, 3, 2, 5, 2, 3, 0, 2, 3, 3, 2, 4, 1, 2, 4, 6, 3, 6, 6, 0, 0, 3, 0, 3, 3, 3, 6, 3, 0, 6, 4, 6, 4, 0, 4, 6, 3, 4, 6, 2, 3, 6, 5, 6, 3, 0, 3, 6, 3, 4, 0, 3, 4, 5, 6, 6, 2, 3, 4, 3, 5, 6, 0, 5, 6, 0, 2, 3, 4, 0, 4, 6, 5, 6, 4, 2, 2, 0, 2, 6, 0, 2, 5, 4, 2, 0, 4, 0, 3, 3, 3, 4, 3, 2, 3, 2, 5, 3, 3, 6, 0, 3, 3, 3, 4, 6, 6, 1, 3, 2, 3, 3, 6, 6, 6, 5, 2, 2, 4, 3, 2, 3, 6, 4, 4, 6, 6, 6, 5, 1, 6, 6, 3, 6, 6, 2, 6, 4, 4, 6, 3, 2, 0, 4, 0, 6, 6, 5, 5, 4, 5, 3, 3, 5, 0, 6, 2, 6, 0, 0, 3, 3, 4, 3, 4, 1, 3, 3, 6, 3, 4, 4, 5, 0, 3, 0, 3, 3, 4, 6, 0, 4, 6, 5, 3, 3, 6, 5, 1, 6, 0, 3, 4, 4, 4, 4, 3, 3, 4, 4, 4, 6, 4, 3, 4, 0, 0, 0, 5, 3, 6, 5, 3, 5, 6, 4, 0, 6, 0, 2, 0, 5, 4, 3, 2, 2, 4, 2, 2, 4, 0, 3, 6, 4, 6, 2, 3, 3, 3, 0, 2, 6, 2, 6, 0, 6, 0, 4, 6, 5, 0, 2, 2, 0, 3, 5, 3, 0, 3, 1, 3, 2, 5, 0, 4, 4, 0, 5, 0, 0, 6, 4, 6, 5, 0, 6, 3, 3, 5, 4, 5, 3, 6, 4, 2, 4, 0, 6, 6, 4, 6, 3, 2, 3, 6, 0, 3, 5, 2, 6, 4, 4, 3, 6, 0, 0, 6, 6, 0, 2, 1, 6, 4, 6, 3, 2, 2, 4, 2, 6, 3, 6, 2, 0, 2, 4, 6, 5, 5, 3, 2, 3, 3, 5, 5, 4, 4, 3, 2, 2, 3, 6, 3, 6, 0, 3, 5, 3, 4, 0, 5, 5, 0, 0, 2, 4, 5, 5, 5, 0, 6, 1, 4, 3, 3, 0, 2, 4, 3, 0, 3, 4, 5, 6, 6, 6, 6, 4, 6, 0, 5, 2, 6, 5, 6, 5, 3, 0, 5, 2, 5, 0, 4, 4, 4, 3, 3, 3, 2, 1, 5, 2, 6, 6, 5, 4, 3, 6, 5, 0, 4, 3, 3, 4, 4, 4, 4, 2, 5, 4, 2, 3, 6, 3, 3, 4, 6, 3, 3, 5, 3, 4, 3, 0, 4, 3, 3, 6, 3, 3, 2, 5, 3, 3, 6, 0, 6, 2, 3, 3, 0, 4, 6, 3, 0, 2, 0, 3, 3, 2, 3, 4, 4, 6, 3, 4, 2, 6, 6, 0, 3, 4, 4, 6, 5, 4, 2, 6, 6, 1, 3, 2, 6, 2, 3, 5, 5, 2, 3, 2, 3, 4, 2, 2, 3, 2, 6, 3, 3, 5, 4, 3, 0, 4, 2, 0, 0, 2, 2, 3, 4, 5, 4, 2, 2, 3, 0, 4, 2, 0, 3, 1, 6, 4, 4, 6, 6, 4, 3, 5, 2, 3, 3, 1, 2, 6, 4, 3, 5, 3, 3, 1, 6, 0, 4, 4, 6, 5, 6, 4, 5, 4, 5, 3, 6, 3, 3, 0, 2, 2, 4, 3, 3, 2, 3, 3, 2, 3, 3, 6, 4, 5, 3, 2, 3, 0, 4, 4, 4, 6, 3, 5, 3, 3, 3, 3, 3, 3, 1, 2, 3, 0, 3, 4, 0, 3, 3, 3, 4, 4, 2, 6, 3, 6, 6, 0, 4, 0, 3, 3, 6, 3, 0, 4, 3, 3, 3, 2, 1, 3, 6, 3, 5, 4, 3, 3, 5, 4, 5, 6, 3, 3, 0, 5, 3, 3, 5, 6, 2, 4, 4, 3, 6, 6, 6, 3, 0, 0, 6, 5, 0, 3, 4, 3, 3, 2, 2, 3, 4, 5, 4, 0, 3, 3, 3, 0, 3, 1, 3, 3, 6, 4, 3, 4, 2, 3, 6, 3, 6, 4, 3, 3, 4, 4, 5, 2, 6, 4, 1, 5, 0, 0, 6, 0, 6, 5, 2, 6, 3, 6, 2, 2, 3, 5, 0, 6, 4, 2, 3, 5, 4, 3, 0, 6, 6, 3, 2, 4, 4, 6, 3, 3, 3, 4, 5, 3, 2, 0, 4, 4, 3, 5, 0, 6, 3, 3, 6, 0, 5, 3, 4, 3, 0, 2, 3, 6, 3, 6, 4, 5, 6, 4, 6, 5, 4, 3, 4, 6, 6, 3, 3, 3, 4, 3, 2, 5, 3, 2, 5, 4, 3, 3, 3, 0, 2, 2, 3, 3, 3, 0, 3, 6, 3, 6, 3, 4, 6, 3, 0, 3, 5, 0, 4, 0, 5, 3, 4, 5, 6, 3, 4, 6, 0, 3, 0, 0, 2, 5, 3, 4, 6, 3, 3, 3, 5, 5, 3, 6, 5, 6, 4, 3, 3, 3, 0, 4, 3, 4, 4, 0, 6, 5, 4, 6, 3, 6, 3, 0, 4, 2, 3, 0, 2, 0, 3, 3, 3, 3, 0, 3, 2, 5, 4, 2, 4, 5, 6, 5, 0, 4, 0, 3, 5, 0, 4, 2, 3, 2, 0, 4, 6, 4, 3, 4, 2, 4, 2, 4, 3, 3, 0, 3, 2, 6, 3, 0, 5, 6, 3, 6, 2, 3, 6, 3, 3, 6, 3, 3, 0, 6, 3, 3, 0, 4, 3, 3, 3, 5, 3, 4, 3, 0, 0, 0, 0, 2, 4, 2, 4, 2, 3, 4, 0, 5, 6, 3, 4, 3, 4, 6, 3, 3, 6, 5, 4, 4, 3, 3, 3, 3, 6, 5, 4, 4, 2, 5, 4, 5, 2, 6, 4, 4, 5, 0, 5, 0, 1, 4, 5, 5, 3, 2, 3, 0, 2, 1, 5, 0, 3, 3, 0, 6, 6, 0, 3, 2, 4, 4, 4, 5, 4, 0, 0, 5, 5, 4, 5, 4, 2, 0, 3, 0, 1, 3, 0, 0, 3, 4, 6, 3, 6, 3, 3, 3, 6, 3, 6, 0, 4, 4, 3, 3, 6, 0, 2, 3, 3, 6, 3, 2, 6, 0, 2, 6, 6, 4, 0, 4, 6, 6, 2, 0, 4, 2, 3, 6, 3, 4, 6, 0, 0, 4, 3, 4, 6, 3, 2, 6, 4, 3, 4, 3, 3, 0, 5, 3, 0, 3, 3, 2, 4, 3, 4, 3, 5, 3, 5, 6, 3, 3, 0, 2, 2, 4, 3, 6, 3, 6, 6, 4, 3, 4, 1, 1, 5, 4, 4, 4, 4, 3, 2, 0, 6, 4, 3, 3, 4, 0, 0, 3, 5, 2, 2, 0, 6, 5, 3, 6, 5, 3, 3, 4, 6, 5, 5, 4, 2, 2, 3, 3, 2, 3, 2, 3, 5, 6, 3, 4, 1, 6, 3, 6, 2, 6, 3, 2, 3, 3, 0, 2, 6, 4, 6, 0, 3, 3, 4, 4, 0, 3, 4, 5, 5, 4, 4, 2, 2, 4, 2, 3, 1, 4, 3, 2, 4, 5, 4, 4, 4, 4, 3, 2, 6, 3, 6, 6, 4, 4, 2, 3, 3, 2, 3, 5, 4, 6, 2, 2, 2, 0, 0, 4, 6, 5, 4, 6, 6, 4, 3, 3, 3, 2, 0, 6, 0, 0, 6, 0, 5, 2, 0, 5, 3, 3, 4, 4, 3, 3, 3, 4, 4, 2, 3, 5, 5, 2, 6, 6, 4, 6, 4, 4, 0, 5, 3, 2, 0, 2, 6, 5, 4, 2, 3, 6, 4, 0, 6, 6, 2, 2, 4, 0, 2, 5, 0, 2, 5, 0, 2, 4, 0, 6, 6, 4, 5, 0, 4, 6, 4, 3, 4, 4, 5, 2, 3, 3, 4, 6, 0, 0, 2, 4, 4, 5, 3, 3, 2, 4, 5, 0, 0, 3, 3, 5, 4, 2, 4, 4, 0, 4, 3, 6, 3, 0, 0, 5, 6, 4, 4, 0, 5, 3, 4, 6, 3, 4, 5, 3, 3, 5, 2, 6, 2, 5, 0, 6, 2, 2, 2, 2, 5, 3, 3, 3, 3, 2, 6, 3, 6, 2, 4, 0, 6, 4, 2, 4, 0, 5, 2, 0, 0, 6, 0, 6, 5, 0, 6, 3, 3, 0, 4, 4, 6, 0, 1, 3, 3, 5, 6, 0, 4, 0, 5, 0, 6, 4, 4, 3, 5, 4, 3, 3, 0, 6, 6, 2, 4, 3, 3, 3, 2, 5, 5, 5, 4, 0, 3, 3, 2, 2, 5, 3, 4, 4, 3, 3, 4, 6, 0, 6, 6, 3, 4, 4, 4, 2, 4, 0, 6, 3, 4, 2, 5, 4, 5, 4, 0, 5, 3, 4, 0, 5, 2, 0, 3, 3, 4, 6, 2, 3, 6, 2, 3, 3, 2, 6, 5, 3, 6, 3, 6, 3, 0, 0, 0, 6, 3, 3, 5, 5, 4, 6, 2, 0, 6, 4, 0, 3, 4, 3, 4, 0, 4, 6, 6, 5, 0, 2, 3, 2, 4, 4, 0, 3, 3, 3, 0, 3, 4, 0, 3, 5, 2, 4, 3, 2, 2, 3, 2, 3, 4, 5, 3, 2, 5, 6, 3, 5, 6, 0, 6, 6, 3, 6, 3, 3, 3, 3, 5, 4, 3, 3, 4, 5, 6, 3, 6, 6, 2, 6, 3, 2, 3, 2, 6, 5, 6, 2, 3, 0, 2, 5, 2, 4, 5, 3, 2, 5, 4, 6, 5, 4, 3, 5, 0, 5, 1, 2, 6, 5, 2, 3, 3, 3, 2, 6, 3, 4, 6, 0, 3, 3, 5, 3, 5, 0, 4, 4, 2, 4, 6, 2, 3, 6, 4, 6, 5, 4, 1, 4, 3, 6, 6, 3, 4, 6, 4, 4, 4, 2, 0, 6, 2, 4, 2, 4, 3, 6, 5, 0, 3, 6, 4, 3, 6, 2, 3, 4, 3, 4, 2, 3, 2, 3, 2, 3, 2, 0, 4, 6, 3, 4, 5, 0, 0, 5, 6, 0, 6, 0, 6, 4, 5, 3, 6, 2, 4, 4, 0, 3, 3, 6, 5, 4, 4, 5, 3, 3, 6, 5, 4, 4, 5, 2, 2, 5, 6, 4, 3, 6, 3, 4, 4, 4, 2, 6, 2, 0, 5, 2, 2, 0, 3, 5, 6, 0, 0, 3, 0, 3, 6, 0, 0, 3, 3, 5, 0, 0, 4, 0, 2, 4, 6, 6, 2, 3, 0, 0, 0, 6, 3, 3, 3, 5, 2, 6, 6, 4, 3, 2, 6, 5, 3, 6, 3, 2, 3, 4, 5, 0, 6, 0, 3, 2, 6, 4, 4, 3, 5, 2, 4, 6, 2, 5, 4, 3, 6, 3, 4, 2, 3, 2, 4, 6, 6, 4, 6, 6, 5, 6, 2, 0, 4, 3, 5, 4, 4, 2, 6, 6, 4, 3, 3, 3, 2, 4, 6, 0, 2, 0, 6, 3, 3, 0, 0, 4, 4, 3, 6, 4, 4, 5, 6, 6, 6, 5, 3, 3, 4, 3, 5, 3, 4, 3, 4, 4, 3, 3, 3, 6, 2, 3, 2, 2, 4, 3, 1, 5, 2, 2, 4, 5, 3, 3, 4, 4, 3, 4, 3, 5, 3, 6, 0, 6, 2, 3, 2, 4, 0, 5, 3, 6, 6, 4, 3, 3, 1, 3, 2, 4, 6, 4, 3, 2, 0, 3, 5, 2, 5, 5, 3, 6, 2, 2, 2, 3, 6, 3, 3, 2, 4, 2, 0, 6, 2, 6, 6, 6, 6, 5, 1, 2, 6, 6, 4, 2, 4, 6, 3, 2, 2, 4, 5, 6, 3, 2, 3, 2, 4, 4, 3, 0, 3, 2, 3, 4, 5, 4, 5, 6, 0, 5, 5, 0, 4, 6, 3, 4, 6, 5, 3, 0, 3, 4, 4, 5, 3, 3, 2, 3, 5, 3, 0, 5, 3, 4, 5, 3, 1, 5, 2, 0, 3, 4, 4, 3, 3, 6, 3, 4, 4, 6, 6, 4, 3, 4, 0, 4, 3, 3, 0, 2, 4, 0, 0, 2, 0, 0, 2, 4, 5, 0, 5, 6, 5, 0, 6, 4, 2, 6, 6, 4, 6, 0, 3, 0, 4, 3, 6, 2, 6, 0, 2, 4, 4, 5, 3, 5, 0, 6, 0, 4, 6, 5, 3, 4, 4, 3, 3, 3, 2, 3, 0, 6, 4, 4, 4, 3, 3, 3, 1, 0, 3, 3, 4, 5, 5, 4, 4, 6, 6, 2, 6, 3, 3, 4, 4, 4, 0, 2, 4, 0, 3, 5, 5, 6, 4, 3, 4, 1, 2, 3, 3, 4, 3, 4, 4, 4, 0, 5, 6, 4, 2, 0, 4, 3, 0, 3, 5, 3, 4, 4, 0, 6, 2, 5, 4, 2, 3, 6, 0, 6, 3, 2, 5, 6, 6, 3, 4, 6, 6, 0, 1, 3, 5, 0, 0, 4, 6, 4, 2, 4, 2, 4, 3, 6, 3, 3, 4, 2, 3, 2, 0, 4, 3, 6, 6, 2, 6, 4, 6, 3, 0, 0, 3, 5, 6, 0, 2, 5, 5, 6, 3, 0, 6, 0, 5, 3, 2, 3, 5, 6, 3, 4, 6, 2, 3, 3, 3, 2, 4, 6, 6, 4, 4, 5, 4, 6, 5, 3, 6, 6, 3, 4, 5, 5, 5, 3, 0, 3, 0, 0, 3, 3, 3, 3, 3, 0, 6, 3, 5, 4, 4, 0, 4, 3, 3, 3, 6, 3, 2, 0, 5, 0, 6, 6, 3, 0, 2, 3, 3, 4, 0, 6, 5, 6, 4, 2, 6, 6, 6, 6, 6, 5, 0, 0, 6, 3, 4, 5, 3, 2, 6, 2, 0, 0, 3, 6, 3, 5, 0, 3, 4, 0, 6, 2, 1, 6, 4, 6, 6, 0, 0, 6, 5, 2, 4, 1, 3, 2, 6, 3, 6, 2, 5, 0, 2, 3, 2, 4, 2, 4, 4, 6, 2, 2, 0, 2, 6, 6, 5, 0, 0, 5, 6, 3, 6, 6, 2, 2, 5, 5, 4, 3, 2, 1, 5, 3, 3, 6, 5, 1, 2, 2, 0, 5, 3, 6, 2, 4, 0, 3, 5, 3, 3, 4, 1, 6, 4, 0, 0, 2, 4, 5, 3, 3, 3, 3, 3, 0, 3, 6, 4, 2, 6, 4, 2, 6, 3, 2, 3, 4, 4, 3, 3, 0, 6, 6, 0, 4, 4, 6, 4, 4, 0, 6, 5, 6, 2, 4, 3, 4, 4, 0, 3, 3, 0, 6, 5, 0, 0, 0, 4, 0, 4, 6, 6, 3, 6, 6, 0, 5, 4, 4, 3, 6, 4, 0, 3, 2, 6, 2, 0, 2, 3, 6, 4, 3, 3, 3, 5, 6, 6, 5, 6, 0, 6, 4, 0, 6, 4, 3, 2, 0, 3, 5, 0, 0, 3, 2, 0, 0, 5, 6, 4, 3, 2, 3, 2, 3, 5, 4, 0, 3, 0, 4, 6, 4, 4, 3, 3, 6, 6, 4, 3, 5, 3, 3, 3, 6, 5, 1, 2, 6, 3, 2, 3, 3, 2, 2, 3, 2, 2, 4, 4, 5, 2, 6, 2, 3, 6, 3, 6, 4, 6, 6, 2, 4, 3, 0, 0, 4, 6, 5, 6, 4, 5, 1, 0, 2, 2, 3, 5, 3, 6, 3, 6, 5, 3, 6, 6, 4, 3, 3, 5, 6, 0, 3, 2, 6, 6, 3, 4, 3, 4, 4, 3, 3, 6, 5, 6, 0, 6, 5, 4, 0, 5, 3, 2, 4, 6, 2, 5, 3, 3, 0, 2, 3, 4, 3, 4, 0, 2, 3, 5, 0, 0, 0, 6, 6, 5, 3, 6, 6, 2, 3, 6, 6, 6, 2, 4, 4, 6, 6, 2, 2, 3, 3, 2, 2, 3, 4, 3, 0, 2, 4, 5, 2, 3, 3, 0, 4, 4, 2, 4, 5, 0, 6, 4, 2, 2, 2, 5, 6, 5, 4, 3, 3, 6, 2, 3, 5, 3, 2, 3, 3, 4, 3, 3, 2, 6, 0, 6, 4, 3, 3, 3, 6, 4, 3, 4, 6, 3, 4, 6, 6, 6, 3, 0, 4, 3, 4, 3, 2, 3, 0, 5, 5, 3, 4, 6, 4, 0, 0, 6, 5, 2, 2, 5, 2, 0, 0, 3, 3, 5, 2, 3, 3, 4, 2, 6, 3, 3, 4, 5, 6, 3, 3, 4, 3, 6, 4, 3, 4, 3, 6, 0, 0, 4, 6, 0, 4, 1, 3, 6, 0, 0, 3, 5, 3, 4, 4, 5, 1, 5, 5, 4, 4, 4, 2, 3, 2, 4, 2, 0, 6, 3, 4, 0, 6, 2, 2, 3, 5, 3, 0, 2, 6, 5, 5, 3, 6, 3, 3, 2, 3, 4, 6, 3, 0, 0, 4, 0, 5, 4, 6, 4, 3, 5, 4, 6, 3, 6, 3, 0, 3, 0, 4, 6, 5, 3, 0, 4, 3, 6, 5, 2, 4, 5, 5, 6, 2, 0, 3, 0, 6, 2, 3, 3, 5, 2, 3, 2, 3, 1, 6, 3, 2, 3, 3, 3, 6, 6, 6, 2, 0, 3, 3, 6, 4, 4, 5, 6, 3, 3, 5, 2, 5, 2, 3, 3, 6, 3, 4, 0, 2, 0, 4, 6, 5, 0, 6, 5, 3, 0, 2, 3, 0, 0, 6, 6, 2, 6, 4, 0, 5, 4, 3, 6, 0, 4, 6, 2, 2, 0, 3, 3, 5, 3, 6, 4, 3, 5, 6, 3, 4, 4, 2, 3, 5, 2, 4, 2, 2, 3, 4, 4, 3, 0, 4, 2, 3, 3, 3, 3, 5, 6, 2, 2, 3, 6, 3, 3, 6, 3, 0, 5, 3, 0, 4, 6, 2, 2, 2, 0, 2, 3, 2, 5, 3, 0, 6, 3, 3, 6, 3, 3, 0, 2, 0, 6, 0, 6, 6, 3, 3, 2, 0, 3, 2, 6, 4, 5, 5, 3, 4, 3, 5, 0, 2, 6, 3, 4, 3, 6, 6, 2, 4, 5, 6, 0, 3, 0, 6, 3, 2, 3, 3, 3, 2, 0, 5, 6, 5, 3, 3, 3, 5, 6, 4, 5, 4, 6, 2, 2, 0, 6, 0, 3, 5, 0, 2, 2, 4, 3, 4, 6, 4, 3, 6, 4, 4, 4, 3, 2, 3, 0, 3, 6, 1, 0, 5, 3, 4, 4, 2, 3, 2, 2, 6, 3, 0, 6, 2, 4, 3, 5, 4, 3, 3, 3, 3, 5, 2, 4, 6, 2, 6, 0, 4, 3, 5, 5, 6, 6, 5, 3, 4, 5, 3, 3, 5, 3, 2, 4, 6, 0, 5, 2, 2, 0, 3, 4, 3, 2, 4, 3, 3, 3, 2, 4, 3, 5, 4, 3, 3, 4, 3, 3, 0, 4, 0, 4, 3, 1, 6, 6, 2, 3, 4, 5, 6, 2, 3, 4, 4, 3, 3, 3, 2, 3, 0, 4, 2, 2, 6, 5, 4, 0, 4, 6, 6, 6, 5, 5, 2, 5, 6, 5, 3, 3, 0, 3, 3, 5, 3, 3, 2, 0, 5, 4, 4, 5, 2, 4, 5, 6, 6, 3, 6, 6, 2, 3, 3, 0, 5, 6, 5, 2, 4, 2, 0, 0, 3, 4, 4, 0, 3, 2, 2, 3, 4, 1, 4, 5, 0, 3, 3, 3, 4, 6, 4, 2, 4, 5, 3, 5, 6, 5, 0, 3, 6, 4, 1, 0, 5, 3, 1, 2, 2, 2, 3, 3, 5, 2, 0, 6, 4, 4, 6, 3, 0, 0, 6, 6, 5, 4, 3, 2, 4, 2, 5, 4, 3, 6, 3, 6, 3, 6, 2, 4, 4, 4, 3, 6, 0, 0, 5, 6, 5, 5, 5, 4, 0, 2, 6, 3, 6, 4, 5, 2, 3, 3, 4, 0, 0, 0, 0, 0, 2, 0, 3, 6, 5, 2, 3, 4, 4, 5, 0, 3, 5, 6, 3, 3, 2, 2, 0, 6, 3, 3, 6, 3, 2, 2, 4, 3, 2, 3, 3, 3, 1, 6, 5, 5, 3, 4, 6, 2, 6, 2, 3, 4, 4, 0, 6, 4, 2, 2, 4, 5, 5, 3, 6, 3, 4, 2, 3, 3, 0, 2, 5, 4, 3, 6, 4, 4, 4, 3, 2, 3, 6, 4, 4, 3, 3, 6, 3, 4, 0, 3, 3, 3, 3, 2, 2, 5, 6, 4, 2, 3, 3, 0, 1, 3, 4, 5, 2, 2, 4, 5, 3, 3, 5, 4, 4, 4, 2, 2, 2, 0, 1, 3, 6, 3, 3, 6, 2, 3, 2, 3, 2, 6, 0, 3, 4, 5, 4, 6, 0, 0, 3, 2, 2, 6, 0, 6, 2, 0, 2, 6, 4, 2, 3, 4, 4, 5, 0, 4, 4, 6, 0, 5, 4, 2, 2, 4, 2, 2, 6, 3, 2, 6, 2, 4, 3, 6, 2, 4, 6, 6, 4, 0, 2, 2, 4, 2, 2, 4, 3, 3, 5, 5, 0, 3, 3, 4, 6, 0, 6, 4, 3, 6, 3, 2, 3, 2, 5, 3, 2, 5, 2, 5, 3, 0, 4, 3, 3, 0, 6, 3, 1, 2, 4, 0, 3, 0, 5, 6, 3, 1, 4, 2, 2, 2, 3, 3, 5, 5, 4, 6, 0, 0, 3, 4, 3, 4, 6, 3, 4, 3, 4, 3, 4, 6, 3, 2, 2, 2, 6, 3, 2, 2, 6, 3, 2, 0, 4, 6, 2, 6, 3, 6, 0, 6, 2, 6, 4, 2, 0, 2, 3, 2, 3, 6, 0, 3, 3, 4, 0, 4, 3, 6, 6, 5, 0, 4, 2, 0, 4, 6, 3, 3, 4, 4, 5, 5, 4, 2, 4, 3, 0, 4, 6, 4, 5, 2, 3, 6, 5, 6, 3, 3, 0, 1, 6, 4, 6, 6, 3, 3, 4, 0, 2, 0, 2, 6, 0, 4, 6, 4, 6, 6, 2, 1, 6, 4, 0, 2, 5, 2, 4, 4, 0, 6, 4, 0, 0, 3, 3, 5, 2, 3, 0, 2, 2, 2, 3, 3, 0, 5, 4, 2, 6, 3, 5, 6, 3, 3, 6, 4, 6, 4, 2, 4, 5, 3, 0, 6, 0, 2, 4, 5, 6, 6, 0, 3, 2, 4, 3, 4, 3, 3, 3, 3, 3, 3, 1, 4, 6, 2, 3, 5, 3, 3, 2, 6, 4, 6, 5, 6, 5, 3, 6, 4, 6, 5, 3, 3, 6, 6, 6, 6, 4, 3, 6, 6, 4, 3, 5, 6, 4, 3, 5, 4, 4, 5, 2, 3, 0, 0, 5, 0, 4, 6, 3, 6, 0, 3, 0, 6, 6, 4, 6, 2, 4, 3, 5, 5, 2, 5, 5, 3, 2, 0, 3, 4, 3, 6, 2, 0, 2, 4, 3, 0, 3, 0, 3, 4, 0, 6, 5, 0, 3, 0, 0, 4, 6, 3, 4, 2, 5, 4, 4, 3, 2, 3, 3, 3, 3, 5, 4, 6, 6, 3, 6, 4, 2, 2, 6, 4, 2, 4, 5, 5, 6, 6, 0, 0, 4, 1, 2, 3, 0, 1, 4, 6, 0, 0, 2, 3, 3, 0, 6, 3, 2, 0, 0, 4, 0, 5, 3, 6, 5, 6, 1, 4, 5, 0, 6, 2, 4, 0, 4, 5, 2, 3, 3, 6, 5, 4, 2, 5, 4, 3, 3, 5, 6, 6, 3, 2, 6, 1, 4, 2, 5, 2, 3, 0, 3, 5, 0, 4, 3, 5, 3, 0, 6, 3, 5, 0, 3, 3, 3, 3, 2, 3, 6, 5, 3, 6, 4, 3, 3, 3, 5, 0, 3, 6, 6, 4, 6, 6, 2, 0, 3, 2, 4, 1, 0, 4, 2, 5, 1, 2, 2, 4, 6, 4, 0, 2, 6, 3, 2, 3, 0, 0, 5, 6, 4, 4, 3, 2, 6, 3, 4, 5, 2, 3, 6, 2, 2, 3, 6, 5, 4, 0, 3, 5, 3, 6, 5, 2, 5, 5, 0, 0, 2, 3, 3, 2, 4, 2, 6, 6, 5, 1, 4, 3, 3, 6, 6, 6, 0, 5, 4, 5, 4, 0, 2, 5, 6, 0, 2, 5, 3, 3, 6, 0, 0, 3, 0, 3, 4, 4, 6, 0, 6, 6, 3, 5, 6, 5, 3, 4, 4, 0, 5, 6, 5, 3, 2, 6, 3, 3, 0, 4, 0, 0, 6, 2, 2, 5, 6, 0, 5, 3, 5, 3, 5, 4, 6, 4, 6, 4, 4, 3, 4, 3, 6, 2, 2, 3, 3, 0, 4, 3, 1, 0, 3, 0, 3, 5, 2, 3, 3, 3, 2, 6, 3, 0, 4, 0, 6, 4, 0, 3, 5, 6, 5, 6, 6, 2, 4, 3, 2, 2, 5, 0, 6, 0, 2, 4, 3, 3, 3, 4, 4, 3, 2, 4, 4, 5, 0, 4, 3, 4, 3, 2, 0, 3, 6, 4, 6, 3, 3, 0, 2, 2, 6, 5, 6, 6, 0, 3, 5, 2, 2, 6, 6, 3, 3, 3, 0, 2, 2, 6, 6, 5, 0, 2, 0, 6, 3, 3, 3, 6, 6, 5, 6, 4, 3, 3, 3, 5, 0, 6, 5, 6, 6, 2, 6, 2, 3, 4, 3, 3, 3, 0, 4, 0, 6, 6, 6, 6, 2, 3, 2, 3, 3, 5, 6, 0, 0, 6, 6, 2, 4, 6, 2, 5, 4, 6, 6, 3, 2, 6, 3, 2, 2, 0, 5, 0, 3, 3, 0, 2, 4, 2, 0, 0, 3, 4, 0, 2, 5, 4, 3, 3, 5, 3, 2, 2, 4, 4, 3, 2, 3, 3, 4, 0, 0, 2, 0, 4, 5, 3, 4, 6, 0, 4, 3, 3, 5, 3, 5, 2, 3, 0, 6, 5, 4, 3, 4, 3, 0, 6, 3, 4, 3, 3, 5, 3, 4, 4, 2, 5, 0, 6, 6, 0, 3, 6, 1, 2, 6, 6, 4, 6, 3, 3, 3, 1, 6, 3, 3, 3, 3, 4, 5, 3, 2, 2, 6, 4, 3, 0, 3, 0, 5, 2, 2, 3, 3, 4, 6, 3, 0, 5, 4, 0, 4, 2, 3, 3, 2, 3, 0, 3, 3, 0, 3, 5, 3, 0, 4, 2, 4, 2, 3, 2, 6, 4, 3, 4, 2, 2, 3, 6, 2, 3, 6, 2, 5, 2, 4, 5, 3, 3, 5, 5, 3, 6, 4, 2, 1, 2, 0, 2, 4, 3, 3, 0, 6, 3, 0, 2, 6, 6, 1, 4, 6, 2, 6, 3, 3, 6, 3, 3, 6, 6, 3, 5, 4, 0, 0, 5, 4, 6, 6, 4, 4, 2, 0, 0, 2, 5, 4, 6, 3, 4, 3, 0, 3, 3, 6, 3, 5, 6, 4, 6, 2, 6, 6, 3, 5, 3, 3, 5, 3, 6, 3, 4, 2, 3, 4, 4, 2, 6, 0, 3, 0, 6, 5, 2, 3, 6, 3, 6, 0, 5, 2, 0, 1, 2, 6, 0, 4, 6, 3, 3, 0, 3, 6, 3, 4, 5, 3, 3, 0, 4, 5, 6, 2, 3, 2, 0, 3, 2, 6, 0, 3, 1, 0, 0, 3, 4, 0, 4, 4, 4, 3, 0, 4, 2, 3, 6, 3, 3, 4, 2, 2, 6, 4, 3, 3, 6, 5, 5, 3, 3, 6, 3, 4, 6, 2, 2, 6, 3, 2, 2, 4, 3, 6, 5, 6, 4, 2, 6, 3, 6, 6, 4, 6, 5, 2, 0, 4, 2, 4, 5, 3, 6, 3, 4, 6, 0, 1, 3, 3, 3, 3, 1, 3, 4, 3, 3, 6, 0, 2, 2, 5, 3, 5, 0, 4, 5, 2, 6, 5, 5, 5, 3, 2, 0, 6, 3, 2, 2, 0, 3, 2, 5, 2, 3, 5, 4, 0, 0, 4, 2, 0, 3, 4, 5, 4, 3, 3, 5, 6, 0, 6, 3, 5, 4, 0, 3, 3, 3, 0, 0, 6, 6, 3, 3, 2, 3, 5, 3, 3, 3, 3, 2, 6, 6, 3, 2, 2, 3, 6, 6, 3, 3, 3, 3, 2, 3, 5, 0, 2, 1, 0, 4, 3, 5, 5, 3, 5, 4, 4, 0, 3, 3, 1, 5, 0, 2, 6, 4, 4, 5, 6, 6, 6, 6, 5, 0, 0, 5, 4, 4, 2, 3, 5, 4, 3, 5, 5, 2, 3, 4, 4, 3, 4, 5, 3, 5, 4, 3, 3, 0, 6, 3, 2, 4, 2, 3, 2, 4, 4, 3, 3, 0, 0, 5, 3, 0, 3, 4, 2, 2, 6, 0, 2, 6, 3, 6, 3, 0, 2, 0, 3, 3, 2, 3, 2, 4, 3, 4, 0, 6, 3, 2, 4, 3, 6, 2, 2, 2, 0, 3, 2, 3, 3, 3, 6, 6, 0, 3, 0, 3, 2, 3, 3, 3, 4, 0, 2, 5, 4, 3, 3, 0, 6, 5, 4, 6, 3, 2, 3, 6, 6, 4, 4, 3, 6, 5, 4, 0, 4, 6, 3, 3, 5, 6, 2, 5, 4, 3, 2, 6, 3, 6, 5, 3, 6, 0, 6, 4, 5, 4, 3, 4, 0, 0, 4, 4, 1, 1, 3, 3, 3, 3, 2, 3, 0, 5, 5, 1, 2, 0, 3, 6, 4, 0, 3, 4, 0, 2, 3, 4, 4, 2, 3, 2, 3, 3, 6, 3, 6, 6, 6, 4, 4, 5, 4, 5, 5, 4, 0, 5, 4, 6, 6, 6, 3, 3, 2, 4, 3, 0, 3, 5, 5, 6, 0, 2, 3, 4, 0, 0, 4, 0, 0, 6, 1, 3, 6, 6, 4, 0, 4, 2, 4, 6, 6, 5, 3, 0, 3, 4, 0, 2, 0, 6, 3, 5, 0, 2, 4, 0, 0, 3, 4, 2, 4, 4, 3, 0, 5, 3, 0, 4, 4, 3, 6, 4, 3, 4, 0, 5, 0, 3, 5, 4, 3, 6, 3, 4, 0, 6, 4, 4, 0, 3, 6, 5, 6, 4, 3, 2, 3, 3, 5, 5, 0, 6, 5, 0, 3, 3, 6, 0, 0, 2, 5, 3, 2, 4, 0, 6, 3, 2, 3, 6, 4, 2, 6, 6, 6, 6, 2, 6, 0, 2, 0, 4, 3, 5, 0, 2, 5, 4, 0, 6, 0, 6, 6, 0, 6, 5, 4, 3, 3, 5, 0, 6, 2, 5, 3, 5, 3, 3, 0, 5, 0, 0, 0, 4, 0, 5, 2, 5, 3, 5, 4, 5, 4, 4, 3, 6, 0, 0, 3, 5, 4, 6, 6, 0, 3, 0, 3, 3, 4, 5, 5, 6, 3, 4, 4, 3, 3, 3, 6, 2, 0, 2, 0, 5, 4, 0, 6, 4, 0, 5, 4, 4, 3, 4, 3, 3, 5, 2, 6, 4, 3, 5, 2, 6, 3, 0, 5, 5, 3, 4, 3, 6, 6, 3, 5, 6, 5, 3, 2, 6, 3, 3, 5, 2, 6, 2, 4, 6, 4, 0, 6, 0, 5, 2, 3, 4, 6, 3, 2, 2, 2, 5, 5, 0, 5, 2, 2, 3, 3, 6, 6, 3, 2, 3, 4, 4, 0, 4, 4, 5, 3, 2, 6, 0, 2, 0, 4, 4, 4, 2, 3, 5, 0, 0, 2, 5, 2, 4, 3, 4, 5, 6, 3, 5, 2, 0, 3, 4, 3, 0, 3, 1, 4, 0, 3, 0, 3, 6, 4, 3, 5, 6, 0, 3, 0, 3, 4, 1, 0, 4, 2, 5, 0, 4, 2, 4, 3, 2, 2, 3, 2, 0, 4, 4, 4, 2, 6, 6, 5, 2, 4, 2, 4, 2, 3, 3, 3, 3, 3, 0, 6, 3, 2, 4, 5, 3, 2, 4, 2, 5, 5, 6, 2, 3, 2, 5, 3, 2, 2, 3, 4, 2, 3, 0, 3, 3, 3, 3, 6, 2, 4, 1, 3, 6, 4, 4, 3, 4, 6, 5, 0, 4, 5, 5, 3, 5, 1, 6, 4, 2, 6, 0, 4, 4, 5, 6, 6, 2, 0, 3, 2, 1, 0, 6, 1, 2, 4, 3, 2, 6, 6, 6, 6, 6, 3, 3, 4, 3, 0, 6, 0, 3, 2, 5, 6, 6, 4, 5, 6, 0, 3, 6, 4, 4, 0, 3, 6, 6, 3, 2, 5, 4, 0, 4, 4, 6, 6, 3, 2, 3, 4, 6, 4, 5, 3, 4, 5, 2, 2, 6, 5, 4, 2, 5, 6, 4, 2, 4, 6, 3, 2, 6, 6, 6, 2, 2, 3, 2, 0, 6, 0, 4, 6, 0, 0, 4, 2, 3, 6, 3, 4, 4, 3, 5, 3, 4, 3, 0, 6, 4, 5, 3, 6, 3, 2, 4, 5, 4, 5, 0, 4, 2, 3, 6, 3, 3, 3, 0, 2, 5, 3, 0, 4, 4, 3, 5, 5, 6, 4, 0, 6, 3, 6, 4, 4, 5, 2, 4, 2, 0, 3, 6, 3, 0, 4, 4, 4, 3, 0, 0, 3, 6, 2, 2, 3, 0, 4, 5, 4, 3, 0, 3, 4, 5, 0, 5, 4, 0, 4, 4, 2, 6, 6, 3, 3, 1, 2, 3, 0, 6, 2, 5, 3, 6, 3, 3, 2, 2, 6, 4, 6, 3, 4, 3, 4, 4, 5, 3, 3, 3, 4, 6, 0, 5, 2, 4, 0, 4, 3, 6, 4, 5, 5, 0, 0, 4, 2, 5, 6, 0, 3, 6, 3, 6, 2, 4, 6, 4, 2, 6, 3, 5, 6, 3, 4, 6, 2, 6, 2, 5, 0, 6, 3, 0, 2, 0, 0, 6, 3, 2, 4, 0, 6, 3, 3, 2, 4, 5, 0, 3, 0, 5, 2, 6, 0, 6, 4, 2, 6, 6, 3, 4, 3, 5, 6, 4, 0, 0, 2, 5, 3, 2, 5, 5, 6, 2, 4, 6, 2, 2, 5, 4, 2, 3, 4, 0, 3, 2, 0, 6, 6, 4, 3, 2, 2, 2, 2, 5, 3, 4, 3, 0, 6, 4, 3, 2, 3, 0, 0, 3, 4, 2, 6, 6, 6, 2, 0, 6, 3, 4, 2, 6, 4, 5, 3, 2, 6, 4, 2, 2, 4, 4, 6, 6, 3, 5, 0, 0, 0, 6, 6, 4, 5, 3, 3, 2, 6, 3, 2, 6, 6, 3, 3, 4, 3, 3, 3, 5, 2, 0, 6, 0, 0, 0, 6, 0, 6, 4, 2, 4, 5, 1, 3, 0, 6, 5, 2, 3, 4, 3, 0, 5, 6, 5, 0, 0, 3, 6, 3, 3, 0, 4, 6, 0, 0, 0, 6, 4, 4, 3, 5, 3, 0, 5, 6, 0, 0, 0, 5, 5, 4, 2, 0, 0, 5, 5, 5, 2, 5, 4, 2, 3, 3, 2, 3, 6, 1, 5, 3, 0, 0, 3, 3, 2, 0, 3, 2, 6, 4, 0, 4, 3, 5, 4, 4, 3, 6, 2, 5, 4, 3, 6, 3, 2, 3, 2, 6, 5, 4, 5, 5, 6, 6, 3, 2, 2, 0, 6, 3, 0, 3, 2]\n",
            "[6, 3, 4, 5, 3, 3, 5, 4, 4, 3, 3, 5, 4, 2, 6, 2, 4, 5, 5, 3, 6, 5, 4, 6, 6, 6, 6, 4, 5, 5, 3, 6, 0, 6, 4, 4, 4, 6, 4, 3, 3, 5, 6, 4, 4, 4, 5, 3, 5, 2, 6, 3, 5, 6, 4, 6, 3, 3, 5, 4, 5, 5, 3, 3, 5, 3, 6, 2, 6, 3, 6, 5, 4, 6, 2, 3, 5, 4, 2, 0, 6, 3, 0, 4, 5, 4, 0, 3, 5, 3, 6, 3, 3, 6, 3, 4, 5, 3, 3, 3, 3, 6, 0, 3, 5, 3, 6, 2, 2, 4, 3, 3, 6, 3, 3, 6, 3, 6, 2, 5, 5, 4, 2, 2, 3, 3, 5, 3, 6, 5, 2, 2, 2, 4, 2, 5, 5, 3, 6, 4, 6, 4, 4, 4, 5, 4, 3, 2, 6, 6, 3, 0, 5, 3, 3, 5, 5, 6, 5, 3, 4, 3, 3, 3, 6, 4, 6, 4, 5, 3, 6, 3, 5, 5, 4, 4, 4, 4, 4, 5, 2, 3, 5, 3, 3, 6, 6, 3, 4, 3, 3, 3, 5, 5, 3, 4, 4, 2, 3, 6, 3, 4, 4, 3, 3, 6, 4, 4, 3, 3, 6, 4, 0, 4, 2, 2, 5, 4, 3, 6, 5, 4, 5, 4, 4, 3, 5, 2, 3, 3, 3, 2, 3, 3, 3, 3, 3, 6, 4, 6, 4, 3, 6, 5, 6, 2, 3, 3, 6, 6, 4, 4, 6, 4, 3, 2, 0, 6, 2, 6, 3, 4, 4, 2, 2, 6, 5, 3, 3, 4, 5, 4, 2, 6, 6, 4, 4, 5, 4, 6, 3, 3, 6, 4, 2, 2, 3, 3, 4, 6, 6, 4, 6, 6, 4, 0, 4, 6, 6, 0, 4, 5, 6, 3, 3, 3, 5, 3, 2, 2, 3, 3, 4, 2, 6, 6, 3, 3, 3, 3, 3, 5, 3, 0, 2, 4, 2, 4, 3, 6, 3, 3, 3, 3, 4, 3, 3, 4, 2, 6, 3, 5, 3, 4, 4, 4, 3, 4, 4, 5, 4, 4, 6, 3, 3, 4, 3, 4, 6, 4, 6, 6, 4, 3, 5, 3, 3, 0, 6, 4, 3, 4, 4, 3, 4, 6, 2, 4, 0, 6, 4, 3, 3, 6, 3, 6, 3, 5, 2, 4, 6, 6, 3, 3, 2, 5, 4, 6, 6, 5, 4, 5, 3, 3, 5, 4, 5, 5, 2, 4, 3, 5, 6, 3, 4, 6, 6, 4, 5, 3, 3, 3, 0, 3, 4, 5, 3, 3, 3, 4, 6, 4, 2, 2, 6, 0, 4, 5, 3, 3, 2, 0, 6, 6, 4, 4, 0, 4, 2, 6, 4, 3, 6, 6, 4, 5, 6, 0, 3, 6, 5, 5, 2, 3, 6, 4, 2, 3, 3, 3, 4, 5, 2, 3, 4, 0, 3, 3, 5, 4, 6, 3, 6, 0, 5, 3, 6, 5, 3, 4, 3, 6, 3, 3, 5, 4, 3, 2, 3, 5, 3, 2, 3, 5, 6, 3, 6, 4, 4, 4, 4, 3, 4, 4, 3, 4, 5, 3, 3, 4, 3, 6, 0, 2, 4, 3, 3, 6, 3, 4, 2, 0, 5, 5, 4, 3, 0, 3, 5, 4, 4, 3, 4, 4, 3, 6, 6, 6, 3, 3, 0, 4, 4, 3, 3, 4, 4, 0, 6, 0, 2, 3, 5, 0, 5, 5, 3, 5, 2, 6, 2, 3, 3, 0, 0, 5, 4, 3, 3, 4, 2, 3, 3, 3, 5, 0, 4, 5, 6, 3, 4, 3, 4, 6, 2, 4, 4, 2, 4, 6, 6, 4, 4, 4, 3, 6, 0, 3, 6, 4, 3, 5, 2, 3, 0, 6, 6, 6, 4, 0, 3, 3, 6, 6, 3, 3, 4, 4, 4, 3, 6, 4, 4, 3, 5, 6, 3, 5, 2, 6, 5, 4, 3, 4, 3, 3, 4, 2, 5, 3, 4, 4, 3, 3, 6, 5, 2, 4, 6, 5, 5, 3, 4, 6, 3, 2, 4, 6, 6, 0, 4, 3, 3, 2, 4, 4, 6, 2, 3, 6, 4, 6, 4, 3, 3, 5, 4, 6, 3, 6, 0, 6, 4, 2, 3, 3, 6, 4, 4, 3, 2, 3, 3, 4, 5, 4, 3, 3, 3, 3, 0, 4, 2, 3, 4, 4, 4, 4, 4, 6, 6, 3, 3, 0, 6, 6, 6, 2, 0, 0, 3, 5, 3, 6, 0, 5, 3, 0, 4, 3, 4, 4, 3, 4, 4, 4, 4, 3, 2, 3, 4, 4, 4, 6, 6, 3, 0, 5, 5, 6, 2, 0, 6, 6, 3, 3, 4, 6, 6, 2, 5, 5, 4, 3, 4, 6, 3, 4, 4, 4, 4, 0, 2, 4, 4, 2, 3, 2, 4, 3, 4, 2, 5, 5, 3, 3, 6, 4, 0, 5, 3, 2, 5, 2, 5, 6, 4, 6, 2, 4, 3, 3, 3, 6, 0, 5, 3, 5, 3, 4, 3, 5, 4, 3, 5, 6, 5, 2, 5, 4, 3, 5, 6, 5, 2, 4, 3, 4, 3, 2, 2, 6, 4, 3, 3, 6, 3, 6, 4, 5, 3, 0, 4, 2, 3, 3, 6, 3, 6, 4, 2, 5, 0, 4, 0, 4, 4, 4, 3, 5, 3, 3, 6, 5, 4, 6, 4, 2, 3, 6, 3, 4, 5, 4, 5, 0, 3, 3, 6, 5, 3, 5, 4, 4, 3, 6, 3, 3, 4, 2, 6, 0, 3, 6, 5, 4, 3, 5, 4, 5, 3, 4, 3, 2, 4, 6, 2, 4, 0, 4, 6, 4, 3, 6, 2, 4, 6, 4, 2, 2, 6, 2, 4, 3, 3, 6, 4, 4, 3, 3, 4, 6, 3, 3, 0, 6, 3, 4, 6, 3, 6, 4, 4, 2, 2, 4, 0, 3, 4, 5, 4, 3, 6, 2, 5, 2, 3, 2, 3, 3, 3, 3, 3, 0, 6, 3, 4, 6, 3, 6, 4, 5, 6, 6, 3, 6, 3, 5, 3, 5, 5, 6, 4, 3, 6, 4, 4, 3, 4, 3, 6, 4, 4, 5, 6, 6, 0, 4, 2, 0, 3, 2, 2, 3, 4, 3, 6, 4, 3, 0, 6, 6, 4, 4, 3, 6, 4, 3, 6, 6, 4, 0, 3, 3, 3, 4, 6, 3, 5, 3, 3, 6, 3, 0, 3, 3, 3, 4, 4, 6, 4, 4, 2, 5, 5, 3, 4, 6, 3, 0, 4, 3, 3, 3, 3, 2, 3, 3, 2, 6, 5, 4, 2, 3, 3, 2, 3, 5, 6, 2, 6, 4, 6, 4, 4, 4, 3, 5, 5, 4, 3, 3, 3, 3, 4, 3, 6, 3, 0, 3, 6, 0, 6, 3, 0, 5, 3, 6, 3, 5, 3, 6, 3, 4, 6, 4, 3, 3, 0, 3, 2, 4, 3, 3, 5, 3, 3, 5, 4, 5, 4, 0, 3, 3, 3, 4, 2, 6, 3, 4, 4, 2, 5, 2, 6, 0, 6, 3, 6, 6, 6, 3, 4, 3, 5, 5, 3, 3, 3, 3, 6, 4, 0, 6, 6, 5, 2, 3, 3, 0, 2, 4, 3, 5, 6, 6, 5, 6, 3, 2, 3, 3, 3, 4, 3, 3, 3, 2, 4, 3, 3, 4, 3, 5, 4, 5, 5, 0, 3, 3, 5, 6, 4, 2, 6, 6, 3, 0, 4, 6, 3, 5, 5, 3, 3, 6, 3, 3, 5, 2, 6, 3, 4, 3, 3, 3, 3, 6, 3, 6, 6, 4, 6, 2, 6, 2, 0, 3, 6, 0, 3, 3, 3, 5, 6, 3, 5, 2, 5, 3, 3, 4, 2, 2, 3, 6, 6, 6, 3, 0, 6, 4, 4, 6, 4, 3, 4, 5, 2, 5, 3, 4, 3, 3, 4, 5, 6, 4, 3, 3, 3, 3, 3, 5, 3, 4, 3, 5, 5, 4, 4, 2, 4, 4, 6, 6, 5, 3, 4, 5, 4, 6, 2, 4, 3, 5, 3, 4, 6, 3, 0, 3, 4, 5, 5, 3, 6, 3, 6, 4, 2, 3, 3, 2, 3, 3, 6, 6, 5, 3, 5, 6, 4, 3, 6, 6, 6, 4, 4, 6, 3, 4, 6, 6, 2, 3, 3, 4, 6, 3, 3, 4, 5, 6, 6, 3, 3, 6, 6, 3, 4, 6, 5, 6, 5, 6, 5, 6, 6, 5, 3, 4, 5, 3, 3, 4, 4, 3, 5, 4, 3, 4, 3, 3, 0, 6, 3, 6, 3, 2, 3, 4, 3, 3, 6, 3, 3, 6, 3, 5, 4, 4, 4, 5, 3, 3, 4, 4, 6, 3, 3, 5, 4, 4, 4, 5, 0, 0, 3, 3, 6, 6, 3, 4, 4, 3, 3, 3, 0, 3, 3, 0, 3, 5, 4, 6, 5, 4, 3, 6, 0, 2, 3, 5, 3, 6, 3, 5, 4, 3, 4, 6, 2, 2, 3, 3, 3, 3, 3, 3, 0, 3, 6, 0, 3, 3, 3, 3, 6, 2, 4, 6, 3, 3, 2, 4, 3, 2, 3, 6, 6, 5, 3, 5, 3, 3, 6, 3, 4, 4, 4, 2, 3, 3, 6, 3, 3, 6, 2, 4, 5, 6, 2, 4, 4, 6, 3, 3, 3, 3, 4, 3, 0, 2, 3, 5, 5, 2, 2, 3, 4, 4, 6, 3, 6, 4, 5, 0, 3, 2, 5, 6, 3, 3, 5, 3, 3, 3, 3, 3, 3, 3, 1, 4, 6, 4, 4, 3, 6, 4, 6, 3, 3, 6, 2, 3, 4, 4, 3, 3, 6, 4, 5, 5, 2, 3, 4, 3, 4, 4, 3, 0, 6, 2, 6, 3, 3, 3, 6, 5, 3, 6, 6, 2, 3, 4, 3, 4, 0, 3, 2, 5, 6, 5, 4, 4, 4, 6, 3, 3, 3, 4, 6, 5, 3, 5, 4, 5, 3, 2, 3, 2, 5, 5, 3, 3, 2, 4, 6, 3, 3, 6, 4, 3, 6, 3, 4, 3, 3, 3, 4, 5, 3, 3, 3, 4, 6, 4, 6, 6, 2, 4, 3, 6, 3, 6, 5, 4, 6, 4, 3, 5, 4, 4, 3, 0, 0, 4, 2, 4, 4, 3, 6, 3, 4, 5, 0, 6, 6, 4, 6, 5, 6, 6, 4, 3, 4, 5, 5, 5, 4, 5, 5, 3, 5, 5, 6, 6, 4, 4, 0, 3, 3, 4, 3, 4, 5, 3, 4, 3, 6, 4, 3, 3, 2, 3, 3, 3, 3, 4, 2, 2, 6, 3, 4, 3, 3, 6, 5, 4, 6, 5, 2, 4, 4, 4, 4, 3, 3, 2, 4, 6, 5, 4, 4, 3, 4, 6, 5, 5, 3, 0, 5, 3, 4, 4, 2, 6, 5, 3, 4, 3, 6, 3, 4, 3, 6, 6, 4, 2, 3, 4, 3, 5, 0, 2, 3, 3, 3, 0, 5, 2, 3, 4, 6, 3, 4, 3, 4, 4, 5, 2, 3, 4, 2, 3, 0, 5, 0, 3, 3, 5, 2, 5, 4, 6, 3, 4, 5, 3, 3, 3, 3, 3, 2, 4, 3, 6, 3, 5, 4, 0, 3, 6, 2, 3, 4, 5, 6, 6, 4, 4, 3, 4, 3, 6, 0, 6, 5, 4, 6, 4, 3, 4, 4, 0, 4, 6, 3, 0, 0, 0, 6, 3, 6, 4, 4, 6, 3, 2, 3, 3, 4, 5, 4, 5, 5, 3, 6, 5, 6, 6, 6, 6, 2, 5, 5, 6, 3, 4, 2, 5, 6, 6, 2, 5, 3, 5, 3, 4, 2, 5, 6, 3, 4, 5, 3, 2, 4, 5, 5, 4, 3, 3, 2, 3, 3, 3, 3, 3, 6, 5, 2, 2, 4, 6, 6, 6, 3, 2, 3, 6, 5, 3, 5, 6, 5, 3, 4, 5, 4, 5, 4, 4, 0, 4, 4, 3, 5, 4, 6, 5, 2, 4, 6, 6, 4, 4, 4, 6, 3, 4, 4, 3, 4, 6, 4, 4, 3, 5, 4, 6, 6, 4, 3, 3, 4, 4, 3, 3, 4, 4, 4, 3, 4, 0, 3, 3, 0, 0, 2, 2, 5, 4, 3, 2, 4, 6, 4, 4, 3, 3, 6, 4, 4, 6, 3, 3, 3, 5, 3, 3, 6, 6, 6, 4, 5, 6, 6, 4, 6, 3, 6, 4, 4, 2, 2, 5, 5, 2, 3, 5, 2, 6, 2, 6, 5, 5, 6, 3, 4, 3, 4, 6, 4, 5, 5, 3, 3, 3, 4, 5, 6, 6, 2, 4, 3, 4, 6, 4, 3, 3, 5, 4, 4, 2, 3, 2, 3, 6, 3, 4, 2, 3, 6, 0, 2, 4, 4, 3, 5, 5, 3, 3, 2, 2, 6, 3, 5, 5, 3, 3, 3, 4, 0, 6, 6, 3, 2, 4, 6, 5, 4, 6, 3, 4, 3, 3, 4, 6, 6, 5, 3, 3, 6, 3, 5, 3, 3, 6, 4, 4, 5, 3, 2, 3, 3, 5, 6, 4, 4, 3, 4, 3, 3, 3, 3, 3, 2, 0, 3, 3, 2, 3, 6, 4, 2, 3, 4, 0, 3, 4, 4, 4, 2, 6, 4, 4, 4, 0, 6, 4, 3, 3, 3, 3, 2, 3, 2, 6, 3, 6, 6, 2, 3, 3, 3, 4, 4, 4, 6, 3, 4, 4, 5, 4, 4, 5, 4, 0, 5, 4, 3, 4, 6, 4, 3, 3, 0, 0, 5, 3, 4, 6, 5, 2, 5, 3, 5, 4, 4, 4, 3, 3, 6, 3, 6, 3, 6, 3, 4, 6, 4, 4, 5, 3, 3, 4, 3, 3, 5, 3, 3, 4, 6, 3, 5, 6, 3, 3, 5, 3, 3, 6, 5, 6, 5, 2, 3, 3, 6, 6, 3, 6, 5, 5, 6, 3, 6, 3, 3, 4, 3, 3, 4, 3, 3, 0, 3, 4, 6, 3, 4, 0, 3, 5, 4, 4, 3, 4, 4, 3, 6, 3, 4, 2, 4, 3, 4, 5, 3, 6, 3, 5, 6, 4, 6, 3, 6, 4, 5, 3, 3, 2, 5, 3, 4, 6, 2, 5, 3, 3, 3, 6, 3, 2, 2, 3, 6, 5, 6, 3, 3, 0, 3, 3, 6, 3, 3, 3, 3, 3, 4, 3, 6, 4, 5, 6, 3, 0, 0, 5, 2, 0, 6, 3, 3, 4, 5, 3, 3, 6, 5, 4, 4, 4, 3, 2, 5, 6, 4, 3, 3, 4, 3, 5, 3, 6, 3, 6, 6, 4, 3, 6, 6, 4, 6, 3, 3, 3, 3, 6, 5, 3, 6, 4, 6, 3, 4, 4, 5, 3, 4, 4, 0, 2, 3, 3, 3, 6, 2, 5, 0, 0, 5, 6, 2, 4, 0, 6, 3, 2, 3, 5, 6, 6, 4, 3, 3, 3, 2, 3, 6, 0, 4, 4, 6, 5, 3, 3, 3, 2, 3, 5, 6, 3, 4, 6, 6, 3, 4, 4, 3, 4, 4, 3, 4, 4, 3, 2, 5, 3, 3, 5, 3, 6, 3, 3, 5, 3, 4, 3, 4, 5, 0, 0, 3, 2, 2, 4, 5, 3, 6, 4, 5, 6, 3, 3, 4, 6, 6, 4, 3, 4, 2, 2, 4, 4, 3, 3, 4, 4, 5, 4, 4, 4, 5, 4, 6, 2, 6, 4, 4, 5, 3, 6, 2, 4, 6, 5, 4, 3, 5, 6, 6, 4, 0, 4, 0, 3, 3, 3, 4, 6, 4, 3, 0, 0, 4, 3, 4, 4, 0, 5, 6, 0, 6, 5, 4, 5, 2, 3, 2, 3, 3, 3, 3, 5, 3, 3, 3, 6, 3, 3, 3, 3, 3, 3, 2, 4, 4, 3, 3, 4, 3, 4, 3, 3, 4, 3, 4, 6, 4, 6, 6, 3, 2, 6, 4, 4, 2, 4, 3, 3, 3, 6, 4, 6, 4, 6, 4, 0, 4, 3, 4, 3, 3, 6, 3, 3, 3, 4, 3, 3, 0, 2, 3, 2, 3, 3, 5, 3, 3, 4, 3, 4, 3, 0, 3, 5, 3, 2, 6, 4, 5, 3, 4, 3, 6, 3, 3, 3, 0, 3, 2, 5, 4, 3, 4, 4, 3, 2, 6, 3, 3, 3, 4, 3, 6, 4, 3, 5, 6, 3, 2, 0, 5, 3, 4, 5, 3, 3, 3, 5, 5, 5, 4, 2, 0, 3, 5, 6, 3, 6, 3, 6, 6, 3, 0, 4, 5, 3, 6, 4, 6, 3, 4, 3, 3, 3, 3, 2, 6, 4, 3, 3, 3, 3, 4, 3, 6, 4, 5, 3, 6, 6, 3, 2, 3, 3, 4, 3, 4, 3, 6, 3, 5, 2, 4, 4, 6, 3, 2, 2, 3, 3, 4, 4, 2, 2, 0, 6, 4, 3, 5, 4, 4, 2, 3, 3, 3, 6, 4, 2, 5, 3, 0, 5, 6, 3, 3, 3, 4, 4, 6, 4, 3, 4, 3, 4, 4, 2, 5, 3, 3, 4, 3, 3, 4, 3, 6, 3, 3, 3, 5, 5, 0, 6, 0, 0, 5, 3, 6, 3, 5, 6, 4, 6, 3, 6, 5, 3, 4, 3, 3, 4, 0, 0, 6, 2, 5, 4, 3, 6, 0, 4, 4, 5, 3, 2, 3, 3, 2, 6, 3, 0, 4, 5, 6, 4, 5, 6, 4, 5, 5, 3, 3, 6, 5, 4, 3, 5, 4, 2, 3, 3, 4, 3, 6, 4, 3, 4, 4, 3, 5, 5, 3, 2, 3, 3, 6, 3, 6, 3, 0, 4, 5, 4, 4, 6, 3, 5, 3, 4, 4, 3, 4, 5, 3, 3, 5, 4, 3, 2, 5, 2, 4, 5, 5, 2, 5, 6, 3, 3, 3, 3, 4, 6, 3, 4, 4, 2, 2, 6, 6, 5, 6, 4, 6, 6, 2, 0, 6, 3, 3, 5, 0, 5, 3, 3, 6, 4, 4, 3, 4, 0, 4, 3, 5, 6, 3, 4, 6, 0, 4, 6, 6, 3, 3, 4, 4, 5, 6, 4, 6, 4, 6, 6, 3, 3, 3, 4, 5, 3, 5, 3, 5, 3, 0, 4, 5, 2, 3, 6, 4, 3, 2, 3, 5, 4, 3, 4, 0, 2, 3, 6, 4, 3, 4, 3, 4, 2, 2, 5, 0, 5, 3, 3, 5, 3, 6, 4, 5, 6, 3, 3, 6, 3, 0, 5, 3, 3, 5, 2, 3, 4, 6, 5, 3, 5, 3, 3, 3, 0, 3, 5, 6, 4, 3, 0, 5, 6, 4, 4, 4, 6, 3, 6, 3, 6, 4, 3, 0, 5, 2, 2, 3, 3, 4, 4, 5, 0, 4, 4, 3, 3, 3, 4, 4, 3, 4, 3, 5, 6, 4, 3, 5, 6, 3, 4, 3, 6, 3, 3, 6, 5, 6, 3, 5, 4, 4, 6, 4, 3, 6, 3, 3, 6, 0, 5, 3, 3, 2, 3, 6, 0, 3, 3, 4, 4, 3, 3, 0, 3, 2, 6, 5, 0, 4, 3, 4, 4, 3, 5, 3, 5, 6, 3, 5, 4, 6, 5, 4, 3, 5, 3, 2, 3, 0, 4, 5, 5, 3, 3, 4, 3, 2, 3, 3, 6, 6, 6, 3, 3, 6, 2, 2, 4, 3, 5, 6, 3, 2, 3, 4, 6, 4, 5, 6, 2, 3, 3, 3, 2, 3, 3, 3, 4, 4, 2, 0, 6, 6, 5, 6, 5, 4, 3, 4, 5, 5, 3, 6, 0, 3, 6, 3, 2, 3, 6, 3, 6, 3, 6, 4, 3, 3, 3, 3, 3, 6, 6, 4, 4, 5, 5, 4, 4, 4, 6, 4, 6, 2, 5, 3, 4, 5, 4, 4, 6, 4, 3, 4, 3, 0, 4, 5, 3, 2, 5, 5, 4, 4, 5, 2, 2, 5, 6, 0, 3, 4, 3, 5, 4, 3, 4, 5, 3, 4, 4, 4, 5, 6, 4, 3, 4, 4, 4, 6, 0, 5, 6, 4, 4, 3, 3, 6, 5, 4, 4, 4, 4, 3, 6, 6, 4, 3, 2, 6, 3, 4, 6, 3, 2, 5, 4, 5, 3, 6, 3, 3, 6, 5, 3, 6, 3, 5, 5, 6, 5, 5, 3, 4, 4, 6, 3, 4, 4, 3, 5, 3, 3, 3, 3, 4, 4, 3, 6, 3, 0, 0, 3, 0, 3, 3, 3, 3, 3, 2, 5, 6, 6, 3, 0, 3, 5, 4, 4, 2, 5, 6, 4, 3, 3, 3, 4, 5, 4, 4, 4, 6, 3, 3, 3, 3, 4, 2, 4, 3, 4, 4, 4, 5, 2, 3, 3, 0, 6, 0, 4, 3, 3, 6, 3, 3, 2, 3, 3, 3, 3, 6, 6, 3, 4, 6, 6, 3, 3, 5, 3, 3, 6, 5, 6, 6, 6, 4, 2, 4, 3, 5, 5, 6, 3, 6, 3, 4, 6, 4, 2, 6, 3, 6, 6, 0, 3, 4, 3, 6, 4, 4, 6, 4, 2, 4, 2, 3, 4, 3, 5, 3, 3, 3, 2, 5, 4, 3, 5, 3, 3, 2, 4, 4, 4, 3, 4, 6, 6, 3, 4, 5, 0, 3, 6, 6, 2, 2, 4, 6, 4, 4, 3, 4, 2, 3, 4, 4, 4, 3, 3, 4, 3, 2, 3, 4, 3, 4, 5, 3, 5, 4, 0, 5, 5, 2, 3, 4, 3, 3, 3, 6, 3, 4, 3, 6, 3, 6, 3, 3, 3, 3, 2, 3, 4, 5, 5, 4, 5, 3, 4, 5, 4, 4, 3, 4, 6, 3, 4, 2, 3, 6, 3, 2, 3, 6, 3, 4, 3, 6, 3, 2, 3, 2, 2, 4, 6, 4, 3, 2, 4, 4, 6, 5, 5, 6, 5, 4, 3, 3, 4, 6, 6, 3, 6, 2, 4, 3, 0, 3, 4, 2, 4, 4, 6, 2, 2, 5, 5, 3, 0, 3, 4, 2, 3, 3, 3, 4, 2, 2, 3, 3, 6, 3, 0, 2, 3, 4, 0, 4, 6, 3, 0, 3, 3, 3, 5, 6, 2, 5, 6, 6, 2, 0, 6, 0, 3, 3, 6, 6, 0, 3, 4, 6, 4, 5, 5, 5, 2, 3, 0, 3, 6, 0, 3, 3, 3, 2, 4, 4, 0, 4, 2, 3, 4, 3, 4, 6, 3, 3, 5, 2, 6, 5, 3, 4, 5, 5, 2, 5, 3, 4, 4, 4, 2, 6, 5, 6, 6, 3, 4, 4, 6, 4, 5, 6, 5, 4, 3, 4, 6, 6, 2, 4, 4, 3, 3, 6, 0, 3, 4, 3, 3, 0, 3, 3, 5, 0, 6, 4, 4, 5, 6, 6, 3, 2, 3, 2, 5, 4, 3, 3, 4, 4, 3, 4, 6, 6, 5, 3, 5, 6, 2, 3, 6, 4, 3, 0, 2, 5, 3, 3, 0, 6, 6, 3, 4, 5, 4, 6, 5, 3, 4, 6, 3, 3, 5, 5, 2, 3, 5, 3, 3, 0, 3, 4, 3, 4, 3, 6, 3, 4, 5, 6, 3, 3, 3, 3, 6, 3, 4, 4, 4, 4, 6, 4, 3, 6, 3, 4, 2, 3, 6, 2, 4, 4, 3, 6, 6, 0, 6, 6, 2, 6, 3, 2, 2, 6, 6, 3, 6, 4, 3, 6, 5, 6, 2, 5, 3, 6, 6, 5, 6, 4, 2, 5, 3, 4, 5, 2, 3, 6, 4, 4, 3, 3, 5, 5, 6, 5, 3, 2, 6, 2, 4, 2, 5, 4, 5, 3, 2, 3, 3, 3, 6, 4, 3, 5, 3, 3, 0, 6, 5, 3, 2, 2, 6, 2, 4, 4, 3, 4, 5, 5, 2, 2, 5, 6, 5, 3, 3, 4, 4, 3, 6, 4, 0, 2, 3, 3, 2, 4, 3, 3, 4, 4, 3, 2, 3, 6, 0, 2, 2, 0, 6, 5, 3, 3, 4, 6, 3, 2, 3, 6, 3, 3, 6, 4, 6, 6, 3, 5, 5, 6, 4, 3, 2, 3, 4, 2, 4, 2, 3, 3, 5, 4, 3, 2, 3, 3, 2, 4, 3, 6, 4, 4, 3, 3, 3, 6, 0, 4, 4, 5, 3, 3, 4, 6, 3, 3, 0, 6, 3, 5, 6, 6, 3, 6, 4, 4, 3, 5, 4, 6, 6, 4, 4, 6, 4, 3, 3, 3, 5, 4, 6, 4, 0, 5, 2, 0, 3, 4, 4, 4, 4, 5, 3, 5, 3, 4, 3, 5, 3, 4, 5, 4, 4, 3, 2, 3, 3, 3, 4, 4, 5, 3, 5, 6, 6, 3, 2, 3, 3, 3, 6, 2, 4, 2, 6, 4, 3, 3, 4, 2, 6, 4, 3, 5, 3, 3, 6, 6, 6, 4, 4, 4, 0, 0, 5, 5, 4, 3, 5, 6, 3, 6, 6, 0, 4, 4, 5, 3, 2, 3, 6, 5, 5, 4, 5, 4, 4, 4, 4, 3, 2, 3, 3, 5, 3, 6, 3, 4, 6, 4, 3, 3, 5, 4, 4, 3, 5, 2, 3, 6, 3, 3, 3, 4, 4, 3, 4, 5, 4, 3, 4, 2, 3, 3, 3, 6, 4, 3, 3, 5, 5, 3, 3, 3, 4, 6, 4, 6, 6, 5, 0, 3, 5, 4, 3, 0, 6, 6, 5, 4, 6, 4, 6, 4, 4, 6, 4, 0, 6, 3, 6, 0, 0, 0, 3, 3, 2, 4, 5, 3, 5, 2, 6, 3, 5, 6, 4, 4, 6, 2, 2, 4, 4, 5, 3, 6, 4, 5, 4, 6, 5, 5, 5, 6, 3, 3, 6, 4, 3, 2, 3, 2, 4, 3, 3, 3, 3, 4, 4, 2, 5, 4, 5, 3, 3, 3, 6, 3, 2, 6, 4, 2, 6, 4, 6, 2, 3, 3, 6, 2, 4, 4, 3, 3, 5, 3, 3, 3, 6, 6, 0, 0, 3, 5, 2, 4, 5, 4, 2, 4, 3, 3, 5, 4, 3, 3, 5, 0, 2, 2, 3, 3, 2, 3, 3, 0, 4, 3, 4, 6, 3, 4, 3, 4, 4, 3, 4, 3, 6, 5, 2, 3, 6, 4, 3, 6, 2, 4, 3, 2, 4, 3, 6, 5, 4, 3, 0, 4, 3, 5, 3, 4, 4, 0, 3, 2, 4, 4, 6, 2, 3, 5, 3, 3, 6, 3, 6, 3, 3, 4, 4, 3, 5, 5, 4, 3, 3, 4, 6, 4, 4, 6, 4, 6, 4, 4, 6, 6, 4, 3, 5, 4, 4, 3, 5, 6, 6, 5, 5, 3, 3, 3, 4, 5, 4, 5, 5, 5, 4, 2, 6, 3, 4, 6, 6, 3, 3, 4, 5, 3, 3, 6, 4, 3, 3, 3, 6, 3, 3, 6, 3, 4, 6, 4, 3, 3, 3, 6, 4, 5, 3, 6, 3, 6, 4, 5, 0, 3, 3, 5, 4, 4, 0, 2, 0, 6, 3, 6, 0, 3, 5, 3, 5, 5, 3, 4, 3, 6, 3, 6, 3, 6, 4, 5, 4, 4, 3, 4, 4, 4, 6, 6, 6, 4, 0, 5, 3, 2, 4, 6, 5, 6, 4, 2, 6, 4, 3, 2, 2, 5, 3, 3, 6, 6, 6, 3, 2, 4, 5, 3, 3, 0, 3, 5, 2, 3, 2, 0, 3, 3, 3, 0, 3, 0, 4, 6, 3, 4, 6, 4, 4, 5, 4, 2, 3, 0, 3, 3, 4, 6, 6, 6, 6, 3, 3, 4, 3, 3, 2, 0, 3, 3, 3, 3, 6, 6, 3, 6, 6, 6, 3, 5, 5, 4, 3, 5, 6, 3, 6, 6, 4, 5, 4, 4, 0, 3, 2, 4, 2, 3, 5, 6, 6, 3, 3, 3, 3, 3, 6, 4, 6, 2, 3, 3, 6, 3, 6, 2, 0, 3, 4, 2, 4, 5, 6, 6, 3, 4, 4, 6, 5, 3, 3, 4, 6, 3, 3, 4, 3, 6, 6, 3, 5, 3, 4, 0, 2, 6, 3, 5, 3, 3, 2, 3, 3, 4, 3, 4, 0, 4, 4, 3, 2, 3, 5, 6, 0, 0, 3, 5, 5, 0, 4, 6, 3, 6, 4, 4, 3, 5, 5, 4, 2, 5, 3, 4, 5, 6, 5, 6, 3, 2, 4, 4, 5, 3, 6, 3, 6, 6, 4, 3, 4, 6, 6, 3, 3, 4, 4, 3, 2, 4, 3, 3, 5, 3, 3, 4, 4, 4, 3, 3, 6, 4, 4, 4, 3, 2, 5, 4, 6, 6, 6, 6, 5, 3, 3, 3, 5, 3, 4, 3, 5, 0, 3, 4, 5, 4, 4, 0, 6, 3, 2, 4, 6, 4, 2, 3, 4, 3, 3, 3, 5, 3, 5, 3, 6, 5, 3, 2, 4, 6, 6, 5, 6, 3, 2, 6, 4, 4, 3, 3, 6, 5, 4, 6, 2, 6, 0, 4, 0, 3, 6, 4, 2, 3, 4, 6, 4, 4, 3, 0, 5, 4, 3, 3, 3, 4, 4, 2, 3, 5, 6, 3, 5, 4, 5, 5, 3, 3, 3, 2, 2, 4, 3, 4, 3, 5, 3, 3, 3, 3, 2, 3, 4, 6, 6, 2, 4, 3, 6, 2, 6, 4, 5, 3, 6, 4, 0, 5, 4, 3, 6, 3, 2, 3, 3, 3, 2, 4, 0, 3, 6, 3, 5, 5, 6, 5, 6, 2, 2, 4, 4, 3, 2, 6, 4, 5, 2, 3, 3, 4, 6, 6, 4, 4, 4, 4, 3, 3, 5, 5, 6, 3, 6, 4, 5, 6, 6, 5, 2, 3, 3, 2, 4, 3, 4, 6, 4, 6, 3, 6, 3, 3, 0, 2, 6, 0, 3, 3, 4, 5, 2, 3, 5, 3, 5, 6, 4, 3, 4, 4, 4, 3, 6, 3, 5, 0, 5, 3, 4, 3, 3, 0, 3, 3, 3, 4, 3, 6, 0, 0, 3, 0, 4, 0, 3, 4, 4, 6, 3, 3, 3, 3, 6, 3, 6, 3, 4, 3, 3, 3, 2, 6, 3, 4, 3, 2, 3, 3, 3, 3, 3, 4, 6, 2, 4, 3, 3, 3, 3, 2, 6, 3, 6, 4, 4, 4, 0, 3, 4, 3, 3, 4, 5, 5, 3, 5, 3, 6, 3, 4, 3, 4, 2, 2, 5, 0, 2, 3, 5, 0, 4, 6, 4, 2, 3, 2, 2, 6, 6, 0, 3, 5, 5, 4, 3, 0, 6, 2, 5, 3, 4, 3, 3, 0, 4, 4, 3, 6, 0, 4, 6, 2, 6, 2, 6, 3, 5, 6, 2, 6, 3, 2, 3, 4, 6, 4, 5, 5, 5, 3, 3, 3, 4, 3, 4, 4, 3, 3, 3, 3, 2, 4, 3, 2, 3, 6, 2, 3, 0, 3, 3, 6, 2, 3, 4, 3, 3, 3, 5, 4, 5, 5, 3, 5, 4, 2, 2, 4, 3, 0, 6, 4, 3, 3, 5, 3, 2, 4, 6, 3, 4, 3, 2, 4, 3, 4, 3, 2, 3, 4, 0, 3, 4, 3, 4, 2, 6, 3, 3, 5, 3, 4, 6, 4, 3, 6, 6, 3, 4, 3, 6, 0, 3, 4, 3, 6, 5, 2, 4, 3, 6, 4, 4, 6, 6, 6, 6, 3, 6, 6, 5, 4, 4, 5, 2, 6, 6, 6, 4, 4, 0, 5, 5, 5, 4, 5, 3, 6, 6, 6, 5, 5, 0, 3, 6, 6, 4, 3, 3, 5, 4, 4, 4, 4, 6, 3, 6, 4, 3, 3, 3, 6, 3, 0, 4, 6, 4, 3, 4, 4, 6, 6, 3, 6, 4, 6, 4, 0, 4, 5, 6, 5, 4, 3, 3, 3, 5, 2, 3, 3, 6, 3, 5, 6, 0, 6, 6, 3, 4, 6, 3, 2, 6, 3, 6, 5, 4, 3, 3, 4, 4, 5, 3, 6, 2, 6, 6, 6, 5, 6, 0, 2, 3, 2, 3, 3, 4, 6, 3, 3, 4, 3, 3, 4, 3, 6, 2, 3, 0, 3, 3, 4, 6, 3, 6, 6, 4, 4, 3, 2, 4, 6, 5, 3, 3, 4, 4, 5, 3, 6, 3, 5, 2, 5, 0, 6, 6, 4, 3, 3, 2, 4, 4, 6, 3, 2, 6, 6, 6, 5, 3, 3, 3, 6, 3, 0, 6, 6, 2, 6, 3, 3, 4, 5, 5, 6, 5, 6, 2, 0, 6, 2, 3, 6, 4, 2, 5, 4, 6, 2, 3, 2, 5, 4, 3, 2, 6, 5, 3, 6, 4, 3, 4, 6, 3, 6, 2, 3, 4, 6, 3, 2, 2, 3, 0, 3, 0, 3, 6, 3, 3, 6, 5, 0, 2, 4, 3, 5, 4, 2, 3, 5, 4, 2, 4, 4, 4, 3, 2, 6, 2, 3, 6, 3, 0, 6, 3, 2, 3, 3, 3, 4, 3, 4, 4, 4, 6, 3, 6, 5, 6, 4, 4, 6, 0, 3, 3, 3, 4, 4, 5, 2, 3, 2, 6, 2, 4, 2, 3, 6, 3, 3, 5, 6, 3, 3, 3, 4, 0, 6, 5, 5, 5, 3, 4, 3, 5, 5, 4, 3, 4, 2, 3, 5, 3, 5, 3, 3, 3, 3, 6, 6, 6, 2, 5, 3, 4, 4, 5, 3, 2, 4, 4, 3, 2, 4, 6, 4, 3, 4, 3, 3, 3, 2, 5, 0, 4, 4, 6, 5, 3, 4, 2, 3, 4, 3, 2, 4, 2, 3, 6, 3, 4, 3, 4, 0, 6, 3, 2, 6, 3, 3, 5, 6, 3, 6, 3, 0, 3, 4, 2, 2, 5, 5, 3, 3, 3, 5, 5, 4, 5, 2, 3, 5, 3, 3, 0, 5, 4, 5, 6, 4, 5, 3, 3, 3, 4, 4, 3, 3, 4, 6, 5, 6, 4, 6, 5, 6, 6, 2, 3, 3, 3, 3, 5, 4, 3, 6, 6, 6, 3, 6, 0, 2, 3, 2, 3, 6, 5, 3, 3, 2, 3, 0, 6, 5, 6, 2, 4, 3, 4, 3, 4, 3, 0, 3, 4, 5, 3, 2, 2, 2, 4, 5, 6, 4, 4, 2, 3, 6, 6, 0, 4, 3, 3, 3, 6, 5, 3, 3, 3, 4, 3, 4, 2, 3, 3, 3, 3, 2, 3, 2, 3, 5, 6, 3, 4, 3, 6, 6, 4, 2, 3, 5, 4, 6, 5, 3, 2, 3, 4, 3, 3, 5, 3, 0, 5, 3, 0, 5, 3, 3, 3, 5, 4, 5, 4, 6, 2, 2, 2, 3, 4, 3, 2, 2, 5, 5, 6, 4, 3, 4, 4, 4, 6, 3, 5, 2, 6, 5, 4, 5, 2, 3, 3, 4, 3, 3, 5, 3, 4, 6, 6, 0, 6, 4, 6, 0, 5, 6, 6, 3, 5, 4, 5, 6, 3, 3, 2, 5, 0, 4, 6, 2, 3, 6, 6, 6, 6, 3, 3, 3, 3, 6, 6, 2, 2, 6, 3, 3, 6, 3, 3, 4, 3, 6, 5, 6, 4, 5, 4, 3, 3, 6, 2, 3, 5, 2, 3, 3, 4, 4, 3, 4, 3, 2, 4, 6, 3, 5, 3, 3, 5, 4, 4, 3, 3, 2, 4, 3, 6, 5, 6, 3, 3, 5, 6, 3, 4, 4, 6, 4, 3, 3, 2, 4, 3, 4, 4, 0, 6, 3, 3, 4, 5, 2, 2, 3, 3, 4, 0, 5, 0, 4, 6, 6, 5, 2, 4, 3, 3, 4, 4, 3, 3, 4, 4, 2, 5, 5, 4, 4, 5, 3, 6, 2, 4, 5, 4, 4, 2, 6, 3, 4, 6, 3, 3, 3, 4, 4, 2, 4, 3, 3, 0, 2, 6, 4, 4, 4, 0, 3, 4, 3, 4, 3, 2, 5, 4, 4, 5, 6, 3, 0, 5, 2, 2, 4, 4, 3, 3, 5, 3, 4, 3, 5, 0, 5, 5, 3, 5, 4, 6, 4, 6, 3, 4, 3, 4, 4, 3, 2, 3, 4, 3, 2, 3, 5, 4, 5, 4, 6, 2, 3, 3, 4, 6, 6, 6, 0, 0, 3, 3, 4, 4, 4, 6, 3, 4, 0, 3, 2, 4, 0, 2, 6, 3, 3, 3, 6, 4, 3, 6, 3, 3, 6, 3, 5, 4, 3, 6, 2, 0, 2, 2, 3, 4, 3, 2, 6, 0, 2, 5, 3, 0, 3, 4, 3, 3, 3, 3, 3, 3, 5, 4, 2, 5, 2, 6, 3, 5, 5, 3, 3, 5, 0, 6, 3, 3, 2, 3, 2, 3, 3, 4, 0, 3, 4, 5, 5, 2, 0, 2, 3, 6, 2, 6, 0, 0, 6, 2, 2, 2, 6, 3, 3, 3, 3, 4, 6, 3, 6, 5, 6, 6, 6, 4, 5, 6, 6, 3, 0, 4, 3, 4, 4, 2, 3, 2, 2, 4, 6, 3, 4, 5, 4, 3, 4, 3, 4, 2, 3, 5, 3, 4, 3, 6, 5, 6, 4, 6, 3, 6, 5, 5, 4, 6, 3, 3, 2, 3, 5, 3, 6, 3, 5, 4, 4, 3, 6, 5, 6, 4, 3, 6, 3, 3, 6, 4, 6, 3, 2, 6, 2, 4, 6, 5, 0, 6, 5, 4, 3, 3, 6, 5, 3, 3, 4, 0, 3, 3, 3, 6, 2, 2, 6, 5, 4, 3, 5, 3, 6, 5, 2, 6, 3, 5, 5, 3, 6, 3, 4, 3, 2, 3, 5, 3, 6, 3, 6, 3, 5, 6, 3, 6, 3, 4, 2, 6, 4, 5, 4, 3, 3, 4, 6, 6, 4, 3, 5, 3, 3, 3, 3, 3, 3, 4, 4, 4, 3, 5, 5, 3, 5, 3, 3, 3, 3, 4, 2, 6, 3, 2, 0, 4, 4, 4, 6, 3, 2, 3, 4, 3, 4, 3, 4, 4, 3, 6, 3, 3, 5, 3, 2, 4, 4, 0, 3, 3, 3, 5, 4, 6, 3, 3, 6, 5, 6, 4, 6, 6, 3, 3, 2, 5, 0, 2, 3, 4, 3, 6, 4, 5, 3, 2, 0, 4, 0, 3, 4, 3, 6, 4, 4, 3, 3, 2, 6, 4, 5, 4, 6, 0, 3, 4, 6, 3, 3, 4, 3, 5, 6, 5, 3, 3, 2, 4, 3, 6, 4, 6, 3, 4, 4, 2, 5, 5, 3, 3, 6, 3, 3, 4, 3, 6, 3, 6, 3, 5, 3, 3, 6, 4, 3, 5, 4, 3, 6, 3, 3, 3, 0, 4, 2, 3, 4, 2, 4, 3, 3, 4, 3, 6, 0, 5, 3, 3, 3, 3, 6, 5, 2, 4, 3, 6, 6, 6, 4, 3, 0, 3, 6, 3, 4, 5, 4, 3, 4, 3, 5, 4, 0, 3, 6, 3, 5, 4, 6, 6, 5, 6, 4, 6, 4, 6, 5, 6, 0, 3, 6, 3, 5, 3, 2, 4, 0, 0, 4, 3, 4, 4, 4, 3, 5, 0, 5, 3, 3, 4, 3, 6, 2, 6, 2, 0, 3, 4, 3, 3, 6, 6, 3, 3, 5, 2, 6, 3, 2, 2, 4, 5, 3, 5, 2, 5, 6, 5, 0, 4, 6, 6, 3, 4, 4, 4, 3, 3, 5, 5, 6, 4, 0, 6, 3, 2, 0, 2, 5, 3, 2, 4, 0, 3, 2, 6, 3, 4, 3, 3, 0, 4, 6, 3, 6, 3, 4, 5, 6, 6, 3, 6, 3, 4, 2, 2, 4, 4, 2, 3, 4, 3, 0, 2, 3, 6, 5, 3, 3, 3, 2, 3, 4, 4, 4, 3, 2, 5, 4, 3, 5, 3, 3, 0, 3, 4, 2, 6, 0, 6, 4, 3, 6, 6, 2, 6, 2, 5, 3, 2, 5, 4, 0, 3, 5, 6, 3, 2, 6, 5, 3, 4, 5, 5, 2, 3, 4, 6, 4, 4, 3, 3, 4, 0, 2, 6, 3, 3, 6, 6, 4, 6, 5, 4, 4, 5, 0, 5, 3, 4, 6, 3, 3, 3, 6, 3, 6, 3, 4, 6, 3, 2, 4, 4, 5, 5, 3, 4, 3, 3, 2, 4, 6, 2, 3, 4, 6, 5, 5, 6, 3, 5, 6, 6, 6, 4, 3, 2, 4, 6, 3, 3, 2, 2, 5, 2, 3, 4, 3, 3, 0, 5, 5, 5, 0, 3, 5, 3, 3, 5, 6, 4, 4, 6, 4, 4, 4, 0, 6, 6, 4, 4, 4, 6, 3, 4, 3, 4, 5, 6, 3, 2, 4, 3, 3, 6, 3, 3, 6, 5, 3, 3, 5, 5, 2, 6, 5, 3, 5, 3, 4, 6, 4, 2, 5, 2, 6, 5, 6, 4, 5, 4, 6, 4, 2, 3, 4, 6, 6, 3, 4, 3, 0, 3, 5, 4, 5, 2, 6, 4, 3, 4, 3, 3, 0, 3, 6, 3, 6, 3, 4, 5, 3, 4, 3, 4, 3, 3, 4, 4, 4, 5, 3, 5, 5, 5, 4, 2, 5, 3, 6, 4, 6, 4, 3, 5, 5, 6, 3, 4, 3, 3, 3, 2, 0, 2, 3, 3, 3, 2, 4, 3, 5, 5, 6, 3, 4, 3, 5, 6, 0, 4, 6, 4, 4, 3, 6, 4, 6, 6, 3, 3, 6, 0, 6, 4, 3, 3, 4, 5, 5, 4, 6, 3, 5, 3, 3, 3, 6, 3, 6, 2, 4, 4, 4, 2, 2, 6, 3, 3, 2, 6, 5, 6, 3, 2, 4, 5, 3, 5, 3, 3, 6, 3, 3, 3, 6, 4, 3, 3, 6, 4, 5, 6, 3, 6, 2, 6, 3, 6, 6, 5, 5, 4, 5, 4, 3, 5, 2, 6, 3, 0, 6, 6, 3, 3, 5, 6, 4, 4, 0, 3, 6, 6, 6, 6, 0, 4, 4, 3, 5, 3, 4, 3, 4, 6, 4, 3, 4, 3, 2, 3, 4, 3, 3, 3, 0, 2, 3, 6, 6, 2, 3, 3, 2, 6, 4, 3, 5, 6, 3, 6, 3, 4, 6, 6, 4, 6, 3, 3, 2, 5, 4, 3, 4, 5, 4, 4, 5, 0, 3, 5, 5, 4, 6, 5, 2, 4, 5, 4, 3, 2, 2, 2, 3, 2, 6, 4, 3, 2, 3, 6, 4, 4, 6, 3, 4, 2, 0, 3, 4, 6, 4, 6, 3, 4, 3, 4, 6, 0, 3, 4, 5, 4, 4, 2, 4, 6, 5, 6, 4, 3, 2, 2, 3, 0, 3, 6, 3, 4, 3, 5, 4, 3, 4, 6, 3, 3, 5, 2, 6, 4, 3, 2, 6, 3, 4, 5, 2, 0, 6, 6, 3, 4, 3, 2, 3, 4, 2, 0, 6, 4, 0, 4, 4, 0, 3, 0, 4, 5, 4, 3, 4, 3, 4, 5, 3, 5, 6, 2, 4, 5, 4, 6, 6, 3, 4, 3, 4, 3, 4, 3, 2, 5, 2, 6, 3, 3, 4, 5, 4, 4, 2, 3, 2, 3, 3, 6, 6, 5, 4, 2, 4, 0, 6, 3, 3, 4, 4, 4, 3, 4, 5, 5, 5, 2, 4, 2, 6, 3, 3, 4, 3, 6, 3, 4, 0, 3, 6, 5, 0, 4, 3, 5, 2, 3, 5, 2, 4, 6, 6, 3, 4, 5, 4, 3, 3, 0, 3, 4, 3, 4, 5, 3, 6, 6, 0, 3, 5, 5, 6, 3, 4, 6, 3, 3, 4, 6, 6, 3, 4, 4, 0, 6, 3, 3, 4, 3, 5, 5, 2, 4, 3, 0, 5, 5, 6, 3, 0, 5, 6, 3, 5, 0, 5, 3, 3, 5, 6, 4, 3, 0, 4, 3, 6, 6, 6, 4, 4, 5, 3, 6, 3, 0, 2, 6, 3, 3, 3, 6, 4, 3, 4, 6, 3, 2, 4, 3, 3, 3, 3, 6, 4, 3, 3, 5, 6, 4, 4, 3, 4, 5, 3, 6, 3, 3, 3, 5, 3, 5, 4, 3, 6, 6, 3, 5, 3, 4, 3, 3, 5, 3, 6, 3, 3, 4, 3, 6, 3, 5, 3, 3, 4, 0, 3, 2, 4, 5, 6, 6, 2, 4, 5, 3, 3, 3, 4, 5, 4, 3, 4, 3, 4, 4, 4, 2, 4, 6, 3, 3, 3, 3, 6, 2, 4, 4, 0, 6, 6, 3, 4, 3, 2, 3, 2, 5, 3, 4, 0, 6, 6, 3, 2, 5, 6, 2, 5, 4, 5, 6, 0, 5, 5, 3, 3, 0, 3, 0, 4, 2, 3, 3, 3, 2, 5, 0, 3, 3, 4, 6, 4, 5, 5, 4, 5, 4, 6, 3, 6, 6, 5, 6, 4, 4, 6, 2, 3, 4, 4, 4, 6, 0, 5, 3, 4, 3, 4, 5, 0, 6, 3, 6, 4, 4]\n"
          ],
          "name": "stdout"
        }
      ]
    },
    {
      "cell_type": "code",
      "metadata": {
        "id": "qmUpP3al5Fkk",
        "colab_type": "code",
        "colab": {
          "base_uri": "https://localhost:8080/",
          "height": 255
        },
        "outputId": "9fbad18d-5511-42de-c84e-f4e03d5ba78e"
      },
      "source": [
        "cm = confusion_matrix(label,predict,normalize=\"true\")\n",
        "cm"
      ],
      "execution_count": 21,
      "outputs": [
        {
          "output_type": "execute_result",
          "data": {
            "text/plain": [
              "array([[0.09707724, 0.        , 0.12212944, 0.27453027, 0.2651357 ,\n",
              "        0.08663883, 0.15448852],\n",
              "       [0.12612613, 0.        , 0.13513514, 0.27027027, 0.23423423,\n",
              "        0.07207207, 0.16216216],\n",
              "       [0.06640625, 0.        , 0.15429688, 0.19921875, 0.25195312,\n",
              "        0.14160156, 0.18652344],\n",
              "       [0.03213078, 0.        , 0.04678692, 0.65276212, 0.12401353,\n",
              "        0.04847802, 0.09582864],\n",
              "       [0.05773857, 0.00080192, 0.0978348 , 0.22854852, 0.35765838,\n",
              "        0.05934242, 0.19807538],\n",
              "       [0.03249097, 0.        , 0.08904934, 0.1179302 , 0.10830325,\n",
              "        0.55475331, 0.09747292],\n",
              "       [0.04298459, 0.        , 0.08678021, 0.20519059, 0.2514193 ,\n",
              "        0.06244931, 0.35117599]])"
            ]
          },
          "metadata": {
            "tags": []
          },
          "execution_count": 21
        }
      ]
    },
    {
      "cell_type": "code",
      "metadata": {
        "id": "sGG7z6shOOQY",
        "colab_type": "code",
        "colab": {
          "base_uri": "https://localhost:8080/",
          "height": 616
        },
        "outputId": "714a62fe-d742-41de-df6d-d3f9831722de"
      },
      "source": [
        "df_cm = pd.DataFrame(cm,range(cm.shape[0]),range(cm.shape[1]))\n",
        "plt.figure(figsize = (10,10))\n",
        "sn.set(font_scale=1.4)\n",
        "sn.heatmap(df_cm, annot=True, annot_kws={\"size\": 15})\n"
      ],
      "execution_count": 22,
      "outputs": [
        {
          "output_type": "execute_result",
          "data": {
            "text/plain": [
              "<matplotlib.axes._subplots.AxesSubplot at 0x7f77a61e2278>"
            ]
          },
          "metadata": {
            "tags": []
          },
          "execution_count": 22
        },
        {
          "output_type": "display_data",
          "data": {
            "image/png": "[encoded data removed]",
            "text/plain": [
              "<Figure size 720x720 with 2 Axes>"
            ]
          },
          "metadata": {
            "tags": [],
            "needs_background": "light"
          }
        }
      ]
    },
    {
      "cell_type": "code",
      "metadata": {
        "id": "Z7sXd5Ju6Xz2",
        "colab_type": "code",
        "colab": {}
      },
      "source": [
        ""
      ],
      "execution_count": 0,
      "outputs": []
    }
  ]
}
