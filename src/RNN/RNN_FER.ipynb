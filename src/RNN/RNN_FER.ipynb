{
  "nbformat": 4,
  "nbformat_minor": 0,
  "metadata": {
    "colab": {
      "name": "RNN_FER.ipynb",
      "provenance": [],
      "collapsed_sections": []
    },
    "kernelspec": {
      "name": "python3",
      "display_name": "Python 3"
    }
  },
  "cells": [
    {
      "cell_type": "code",
      "metadata": {
        "id": "jkj0JMs9Y9VH",
        "colab_type": "code",
        "outputId": "25ed5a88-73bb-4745-e4c9-3c590796f2b0",
        "colab": {
          "base_uri": "https://localhost:8080/",
          "height": 102
        }
      },
      "source": [
        "!pip3 install torch torchvision\n",
        "import torchvision\n",
        "import torchvision.transforms as transforms\n",
        "import torch\n",
        "import torch.nn as nn\n",
        "import torch.nn.functional as F\n",
        "import os\n",
        "import numpy as np\n",
        "import pandas as pd\n",
        "import matplotlib.pyplot as plt\n",
        "from torch.utils.data import Dataset, DataLoader\n",
        "import torchvision.transforms as transforms\n",
        "from PIL import Image"
      ],
      "execution_count": 0,
      "outputs": [
        {
          "output_type": "stream",
          "text": [
            "Requirement already satisfied: torch in /usr/local/lib/python3.6/dist-packages (1.5.0+cu101)\n",
            "Requirement already satisfied: torchvision in /usr/local/lib/python3.6/dist-packages (0.6.0+cu101)\n",
            "Requirement already satisfied: numpy in /usr/local/lib/python3.6/dist-packages (from torch) (1.18.3)\n",
            "Requirement already satisfied: future in /usr/local/lib/python3.6/dist-packages (from torch) (0.16.0)\n",
            "Requirement already satisfied: pillow>=4.1.1 in /usr/local/lib/python3.6/dist-packages (from torchvision) (7.0.0)\n"
          ],
          "name": "stdout"
        }
      ]
    },
    {
      "cell_type": "code",
      "metadata": {
        "id": "CGp-2Cn1MBjN",
        "colab_type": "code",
        "colab": {}
      },
      "source": [
        "data = pd.read_csv('fer2013.csv')\n"
      ],
      "execution_count": 0,
      "outputs": []
    },
    {
      "cell_type": "code",
      "metadata": {
        "id": "aSxAkSIuh4JV",
        "colab_type": "code",
        "outputId": "45c73cf9-7979-429c-ad22-e6a73f00b783",
        "colab": {
          "base_uri": "https://localhost:8080/",
          "height": 204
        }
      },
      "source": [
        "data.head()"
      ],
      "execution_count": 0,
      "outputs": [
        {
          "output_type": "execute_result",
          "data": {
            "text/html": [
              "<div>\n",
              "<style scoped>\n",
              "    .dataframe tbody tr th:only-of-type {\n",
              "        vertical-align: middle;\n",
              "    }\n",
              "\n",
              "    .dataframe tbody tr th {\n",
              "        vertical-align: top;\n",
              "    }\n",
              "\n",
              "    .dataframe thead th {\n",
              "        text-align: right;\n",
              "    }\n",
              "</style>\n",
              "<table border=\"1\" class=\"dataframe\">\n",
              "  <thead>\n",
              "    <tr style=\"text-align: right;\">\n",
              "      <th></th>\n",
              "      <th>emotion</th>\n",
              "      <th>pixels</th>\n",
              "      <th>Usage</th>\n",
              "    </tr>\n",
              "  </thead>\n",
              "  <tbody>\n",
              "    <tr>\n",
              "      <th>0</th>\n",
              "      <td>0</td>\n",
              "      <td>70 80 82 72 58 58 60 63 54 58 60 48 89 115 121...</td>\n",
              "      <td>Training</td>\n",
              "    </tr>\n",
              "    <tr>\n",
              "      <th>1</th>\n",
              "      <td>0</td>\n",
              "      <td>151 150 147 155 148 133 111 140 170 174 182 15...</td>\n",
              "      <td>Training</td>\n",
              "    </tr>\n",
              "    <tr>\n",
              "      <th>2</th>\n",
              "      <td>2</td>\n",
              "      <td>231 212 156 164 174 138 161 173 182 200 106 38...</td>\n",
              "      <td>Training</td>\n",
              "    </tr>\n",
              "    <tr>\n",
              "      <th>3</th>\n",
              "      <td>4</td>\n",
              "      <td>24 32 36 30 32 23 19 20 30 41 21 22 32 34 21 1...</td>\n",
              "      <td>Training</td>\n",
              "    </tr>\n",
              "    <tr>\n",
              "      <th>4</th>\n",
              "      <td>6</td>\n",
              "      <td>4 0 0 0 0 0 0 0 0 0 0 0 3 15 23 28 48 50 58 84...</td>\n",
              "      <td>Training</td>\n",
              "    </tr>\n",
              "  </tbody>\n",
              "</table>\n",
              "</div>"
            ],
            "text/plain": [
              "   emotion                                             pixels     Usage\n",
              "0        0  70 80 82 72 58 58 60 63 54 58 60 48 89 115 121...  Training\n",
              "1        0  151 150 147 155 148 133 111 140 170 174 182 15...  Training\n",
              "2        2  231 212 156 164 174 138 161 173 182 200 106 38...  Training\n",
              "3        4  24 32 36 30 32 23 19 20 30 41 21 22 32 34 21 1...  Training\n",
              "4        6  4 0 0 0 0 0 0 0 0 0 0 0 3 15 23 28 48 50 58 84...  Training"
            ]
          },
          "metadata": {
            "tags": []
          },
          "execution_count": 6
        }
      ]
    },
    {
      "cell_type": "code",
      "metadata": {
        "id": "otEpRc27dD3O",
        "colab_type": "code",
        "colab": {}
      },
      "source": [
        "width, height = 48, 48\n",
        "\n",
        "images = []\n",
        "lables = []\n",
        "for index,row in data.iterrows():\n",
        "    pixels=np.asarray(list(row['pixels'].split(' ')),dtype=np.uint8)\n",
        "    img=pixels.reshape((width,height))\n",
        "    images.append(img)\n",
        "    lables.append(row['emotion'])"
      ],
      "execution_count": 0,
      "outputs": []
    },
    {
      "cell_type": "code",
      "metadata": {
        "id": "hrJ5VulDdpiB",
        "colab_type": "code",
        "outputId": "849dd0f8-e4a3-45f4-d10c-0f82554f9bb6",
        "colab": {
          "base_uri": "https://localhost:8080/",
          "height": 34
        }
      },
      "source": [
        "print(len(lables))\n"
      ],
      "execution_count": 0,
      "outputs": [
        {
          "output_type": "stream",
          "text": [
            "35887\n"
          ],
          "name": "stdout"
        }
      ]
    },
    {
      "cell_type": "code",
      "metadata": {
        "id": "PLJ2JzICMe9H",
        "colab_type": "code",
        "colab": {}
      },
      "source": [
        "width, height = 48, 48\n",
        "\n",
        "train_images = []\n",
        "test_images = []\n",
        "train_labels = []\n",
        "test_labels = []\n",
        "train_data = []\n",
        "test_data = []\n",
        "for index,row in data.iterrows():\n",
        "    pixels=np.asarray(list(row['pixels'].split(' ')),dtype=np.uint8)\n",
        "    img=pixels.reshape((width,height))\n",
        "    if row['Usage'] == 'Training':\n",
        "      train_labels.append(row['emotion'])\n",
        "      train_images.append(img)\n",
        "      train_data.append(img)\n",
        "      #train_data.append(row['emotion'])\n",
        "    else :\n",
        "      test_labels.append(row['emotion'])\n",
        "      test_images.append(img)\n",
        "      test_data.append(img)\n",
        "      #test_data.append(row['emotion'])\n",
        "\n",
        "for index,row in data.iterrows():\n",
        "  if row['Usage'] == 'Training':\n",
        "    train_data.append(row['emotion'])\n",
        "  else :\n",
        "    test_data.append(row['emotion'])"
      ],
      "execution_count": 0,
      "outputs": []
    },
    {
      "cell_type": "code",
      "metadata": {
        "id": "-SpeIDSljSWj",
        "colab_type": "code",
        "colab": {}
      },
      "source": [
        "\n",
        "BATCH_SIZE = 256\n",
        "\n",
        "class MyDataset(Dataset):\n",
        "    def __init__(self, data, targets, transform=None):\n",
        "        self.data = data\n",
        "        self.targets = torch.LongTensor(targets)\n",
        "        self.transform = transform\n",
        "\n",
        "    def __getitem__(self, index):\n",
        "        x = self.data[index]\n",
        "        y = self.targets[index]\n",
        "    \n",
        "        if self.transform:\n",
        "            #x = Image.fromarray(self.data[index].astype(np.uint8).transpose(1,2,0))\n",
        "            x = self.transform(x)\n",
        "\n",
        "        return x, y\n",
        "\n",
        "    def __len__(self):\n",
        "        return len(self.data)\n",
        "\n",
        "    def __iter__(self):\n",
        "        return self\n",
        "\n",
        "transform = transforms.Compose([transforms.ToTensor()])\n",
        "\n"
      ],
      "execution_count": 0,
      "outputs": []
    },
    {
      "cell_type": "code",
      "metadata": {
        "id": "6XLtoHoGAhJ9",
        "colab_type": "code",
        "colab": {}
      },
      "source": [
        "trainset = MyDataset(train_images,train_labels, transform=transform)\n",
        "trainloader = DataLoader(trainset, batch_size=BATCH_SIZE)#, shuffle=True, num_workers=2)"
      ],
      "execution_count": 0,
      "outputs": []
    },
    {
      "cell_type": "code",
      "metadata": {
        "id": "cY3JU_MGAhut",
        "colab_type": "code",
        "colab": {}
      },
      "source": [
        "testset = MyDataset(test_images, test_labels, transform=transform)\n",
        "\n",
        "testloader = DataLoader(testset, batch_size=BATCH_SIZE)#, shuffle=False, num_workers=2)"
      ],
      "execution_count": 0,
      "outputs": []
    },
    {
      "cell_type": "code",
      "metadata": {
        "id": "gB1Oj16Ares5",
        "colab_type": "code",
        "colab": {}
      },
      "source": [
        "dataiter = iter(trainloader)\n",
        "images, labels = dataiter.next()"
      ],
      "execution_count": 0,
      "outputs": []
    },
    {
      "cell_type": "code",
      "metadata": {
        "id": "G_wEX43R6ltY",
        "colab_type": "code",
        "outputId": "710f2dfd-e276-4130-f445-8926c9f0a038",
        "colab": {
          "base_uri": "https://localhost:8080/",
          "height": 34
        }
      },
      "source": [
        "len(images)"
      ],
      "execution_count": 0,
      "outputs": [
        {
          "output_type": "execute_result",
          "data": {
            "text/plain": [
              "256"
            ]
          },
          "metadata": {
            "tags": []
          },
          "execution_count": 14
        }
      ]
    },
    {
      "cell_type": "code",
      "metadata": {
        "id": "wgjQ4k16sdb3",
        "colab_type": "code",
        "colab": {}
      },
      "source": [
        "def imshow(img):\n",
        "    #img = img / 2 + 0.5     \n",
        "    npimg = img.numpy()\n",
        "    print(npimg.shape)\n",
        "    print(np.transpose(npimg).shape)\n",
        "    plt.imshow(np.transpose(npimg, (1, 2, 0)))"
      ],
      "execution_count": 0,
      "outputs": []
    },
    {
      "cell_type": "code",
      "metadata": {
        "id": "uFZb_TQRsiRp",
        "colab_type": "code",
        "outputId": "62c28517-5509-45fa-feca-beb2b92785b9",
        "colab": {
          "base_uri": "https://localhost:8080/",
          "height": 303
        }
      },
      "source": [
        "imshow(torchvision.utils.make_grid(images))"
      ],
      "execution_count": 0,
      "outputs": [
        {
          "output_type": "stream",
          "text": [
            "(3, 1602, 402)\n",
            "(402, 1602, 3)\n"
          ],
          "name": "stdout"
        },
        {
          "output_type": "display_data",
          "data": {
            "image/png": "[encoded data removed]",
            "text/plain": [
              "<Figure size 432x288 with 1 Axes>"
            ]
          },
          "metadata": {
            "tags": [],
            "needs_background": "light"
          }
        }
      ]
    },
    {
      "cell_type": "code",
      "metadata": {
        "id": "kaWvcaGmnSlu",
        "colab_type": "code",
        "colab": {}
      },
      "source": [
        "# parameters \n",
        "N_STEPS = 48\n",
        "N_INPUTS = 48\n",
        "N_NEURONS = 100\n",
        "N_OUTPUTS = 7\n",
        "N_EPHOCS = 10000"
      ],
      "execution_count": 0,
      "outputs": []
    },
    {
      "cell_type": "code",
      "metadata": {
        "id": "8rKr2eFLX3DL",
        "colab_type": "code",
        "colab": {}
      },
      "source": [
        "class ImageRNN(nn.Module):\n",
        "    \n",
        "    # declaraction of variables\n",
        "    def __init__(self, batch_size, n_steps, n_inputs, n_neurons, n_outputs):\n",
        "        super(ImageRNN, self).__init__()\n",
        "        \n",
        "        self.n_neurons = n_neurons\n",
        "        self.batch_size = batch_size\n",
        "        self.n_steps = n_steps\n",
        "        self.n_inputs = n_inputs\n",
        "        self.n_outputs = n_outputs\n",
        "        \n",
        "        self.basic_rnn = nn.RNN(self.n_inputs, self.n_neurons) \n",
        "        \n",
        "        self.FC = nn.Linear(self.n_neurons, self.n_outputs)\n",
        "    \n",
        "    # initialize hidden weights that have zero values\n",
        "    def init_hidden(self,):\n",
        "        # (num_layers, batch_size, n_neurons)\n",
        "        return (torch.zeros(1, self.batch_size, self.n_neurons))\n",
        "        \n",
        "    def forward(self, X):\n",
        "        # transforms X to dimensions: n_steps X batch_size X n_inputs\n",
        "        X = X.permute(1, 0, 2) \n",
        "        \n",
        "        self.batch_size = X.size(1)\n",
        "        self.hidden = self.init_hidden()\n",
        "        \n",
        "        # lstm_out => n_steps, batch_size, n_neurons (hidden states for each time step)\n",
        "        # self.hidden => 1, batch_size, n_neurons (final state from each lstm_out)\n",
        "        lstm_out, self.hidden = self.basic_rnn(X, self.hidden)      \n",
        "        out = self.FC(self.hidden)\n",
        "        \n",
        "        return out.view(-1, self.n_outputs) # batch_size X n_output"
      ],
      "execution_count": 0,
      "outputs": []
    },
    {
      "cell_type": "code",
      "metadata": {
        "id": "kdmflVvWthuM",
        "colab_type": "code",
        "outputId": "ac87aa9e-e27b-4bf0-e1db-043a2a66b463",
        "colab": {
          "base_uri": "https://localhost:8080/",
          "height": 204
        }
      },
      "source": [
        "# Testing the model\n",
        "      \n",
        "dataiter = iter(trainloader)\n",
        "images, labels = dataiter.next()\n",
        "model = ImageRNN(BATCH_SIZE, N_STEPS, N_INPUTS, N_NEURONS, N_OUTPUTS)\n",
        "logits = model(images.view(-1, 48,48))\n",
        "print(logits[0:10])"
      ],
      "execution_count": 0,
      "outputs": [
        {
          "output_type": "stream",
          "text": [
            "tensor([[-0.1362, -0.3731,  0.0525, -0.0705,  0.2559,  0.2967, -0.0587],\n",
            "        [-0.1548, -0.2835,  0.0944, -0.0590,  0.2852,  0.3740, -0.0506],\n",
            "        [-0.1733, -0.3123,  0.1451, -0.0846,  0.3252,  0.4219, -0.0567],\n",
            "        [-0.1871, -0.3251,  0.0267, -0.0909,  0.3087,  0.3941, -0.1491],\n",
            "        [-0.0292, -0.2067,  0.0520, -0.0125,  0.0547,  0.0831, -0.0649],\n",
            "        [-0.1078, -0.3425,  0.0498, -0.0621,  0.1448,  0.2845, -0.1660],\n",
            "        [-0.1124, -0.1720,  0.0424,  0.0154,  0.1252,  0.2443, -0.0152],\n",
            "        [-0.1580, -0.3465,  0.0230, -0.0698,  0.2528,  0.2534, -0.1003],\n",
            "        [-0.1240, -0.3108,  0.0597, -0.0775,  0.2415,  0.3229, -0.2047],\n",
            "        [-0.2307, -0.2645,  0.0949, -0.0960,  0.4196,  0.4385,  0.0129]],\n",
            "       grad_fn=<SliceBackward>)\n"
          ],
          "name": "stdout"
        }
      ]
    },
    {
      "cell_type": "code",
      "metadata": {
        "id": "85ll9oBatp9R",
        "colab_type": "code",
        "colab": {}
      },
      "source": [
        "# Training the model\n",
        "   \n",
        "import torch.optim as optim\n",
        "\n",
        "# Device: you can choose what device that you want to use during the training process\n",
        "device = torch.device(\"cuda:0\" if torch.cuda.is_available() else \"cpu\")\n",
        "\n",
        "# Model instance\n",
        "model = ImageRNN(BATCH_SIZE, N_STEPS, N_INPUTS, N_NEURONS, N_OUTPUTS)\n",
        "criterion = nn.CrossEntropyLoss()\n",
        "optimizer = optim.Adam(model.parameters(), lr=0.001)\n",
        "\n",
        "def get_accuracy(logit, target, batch_size):\n",
        "    ''' Obtain accuracy for training round '''\n",
        "    corrects = (torch.max(logit, 1)[1].view(target.size()).data == target.data).sum()\n",
        "    accuracy = 100.0 * corrects/batch_size\n",
        "    return accuracy.item()"
      ],
      "execution_count": 0,
      "outputs": []
    },
    {
      "cell_type": "code",
      "metadata": {
        "id": "RQ730Vk4tthQ",
        "colab_type": "code",
        "colab": {}
      },
      "source": [
        "for epoch in range(N_EPHOCS):  # loop over the dataset multiple times\n",
        "    train_running_loss = 0.0\n",
        "    train_acc = 0.0\n",
        "    model.train()\n",
        "    \n",
        "    # TRAINING ROUND\n",
        "    for i, data in enumerate(trainloader):\n",
        "        # zero the parameter gradients\n",
        "        optimizer.zero_grad()\n",
        "        \n",
        "        # reset hidden states\n",
        "        model.hidden = model.init_hidden() \n",
        "        \n",
        "        # get the inputs\n",
        "        inputs, labels = data\n",
        "        inputs = inputs.view(-1, 48,48) \n",
        "\n",
        "        # forward + backward + optimize\n",
        "        outputs = model(inputs)\n",
        "\n",
        "        loss = criterion(outputs, labels)\n",
        "        loss.backward()\n",
        "        optimizer.step()\n",
        "\n",
        "        train_running_loss += loss.detach().item()\n",
        "        train_acc += get_accuracy(outputs, labels, BATCH_SIZE)\n",
        "         \n",
        "    model.eval()\n",
        "    print('Epoch: %d | Loss: %.4f | Train Accuracy: %.2f' \n",
        "         %(epoch, train_running_loss/i, train_acc/i))\n",
        "# print('Epoch: %d | Loss: %.4f | Train Accuracy: %.2f' \n",
        "#           %(epoch, train_running_loss/i, train_acc/i))    \n",
        "\n",
        "\n",
        "# TEST ACCURACY\n",
        "test_acc = 0.0\n",
        "for i, data in enumerate(testloader, 0):\n",
        "    inputs, labels = data\n",
        "    inputs = inputs.view(-1, 48, 48)\n",
        "\n",
        "    outputs = model(inputs)\n",
        "\n",
        "    test_acc += get_accuracy(outputs, labels, BATCH_SIZE)\n",
        "        \n",
        "print('Test Accuracy: %.2f'%(test_acc / i))\n"
      ],
      "execution_count": 0,
      "outputs": []
    },
    {
      "cell_type": "code",
      "metadata": {
        "id": "7bbg74hWt-pt",
        "colab_type": "code",
        "colab": {}
      },
      "source": [
        ""
      ],
      "execution_count": 0,
      "outputs": []
    },
    {
      "cell_type": "code",
      "metadata": {
        "id": "uNBzwahGWTEx",
        "colab_type": "code",
        "colab": {}
      },
      "source": [
        "# transform = transforms.Compose([transforms.ToTensor()])\n",
        "# class Transform():\n",
        "#     def __init__(self, images, transform=None):\n",
        "#         self.images = images\n",
        "#         # self.targets = torch.LongTensor(targets)\n",
        "#         self.transform = transform\n",
        "# #trainset_images = MyDataset(train_images, transform=transform)\n",
        "# trainset_images = \n",
        "# trainloader_images = DataLoader(trainset_images, batch_size=BATCH_SIZE, shuffle=True, num_workers=2)"
      ],
      "execution_count": 0,
      "outputs": []
    },
    {
      "cell_type": "code",
      "metadata": {
        "id": "khKKKRjHWTVS",
        "colab_type": "code",
        "colab": {}
      },
      "source": [
        "# testset_images = MyDataset(test_images, transform=transform)\n",
        "# testloader_images = DataLoader(testset_images, batch_size=BATCH_SIZE, shuffle=False, num_workers=2)"
      ],
      "execution_count": 0,
      "outputs": []
    },
    {
      "cell_type": "code",
      "metadata": {
        "id": "HqBZAvrIMswI",
        "colab_type": "code",
        "colab": {}
      },
      "source": [
        "# print(len(train_images))\n",
        "# print(len(test_images))\n",
        "# print(len(train_labels))\n",
        "# print(len(test_labels))\n",
        "# #train_images"
      ],
      "execution_count": 0,
      "outputs": []
    },
    {
      "cell_type": "code",
      "metadata": {
        "id": "vysaa2eZBSlT",
        "colab_type": "code",
        "colab": {}
      },
      "source": [
        "# print(len(trainset))\n",
        "# print(len(trainloader))\n",
        "# print(len(testset))\n",
        "# print(len(testloader))\n"
      ],
      "execution_count": 0,
      "outputs": []
    },
    {
      "cell_type": "code",
      "metadata": {
        "id": "ntHFKzYIXHIB",
        "colab_type": "code",
        "colab": {}
      },
      "source": [
        "# print(len(trainset_images))\n",
        "# print(len(trainloader_images))\n",
        "# print(len(testset_images))\n",
        "# print(len(testloader_images))"
      ],
      "execution_count": 0,
      "outputs": []
    },
    {
      "cell_type": "code",
      "metadata": {
        "id": "V2v3DHzcXScu",
        "colab_type": "code",
        "colab": {}
      },
      "source": [
        ""
      ],
      "execution_count": 0,
      "outputs": []
    },
    {
      "cell_type": "code",
      "metadata": {
        "id": "wUZTXn7fCHto",
        "colab_type": "code",
        "colab": {}
      },
      "source": [
        "# import matplotlib.pyplot as plt\n",
        "# dataiter = iter(trainloader)\n",
        "# images, labels = dataiter.next()\n",
        "# labels.shape"
      ],
      "execution_count": 0,
      "outputs": []
    },
    {
      "cell_type": "code",
      "metadata": {
        "id": "qhw44Sww0Z7o",
        "colab_type": "code",
        "colab": {}
      },
      "source": [
        "# import torch\n",
        "# import numpy as np\n",
        "# from torch.utils import data\n",
        "\n",
        "# tensor_x = torch.Tensor(train_images)\n",
        "# tensor_y = torch.Tensor(train_labels)\n"
      ],
      "execution_count": 0,
      "outputs": []
    },
    {
      "cell_type": "code",
      "metadata": {
        "id": "DqkyBM7YsPgN",
        "colab_type": "code",
        "colab": {}
      },
      "source": [
        "# tensor_x.shape\n",
        "# tensor_x.view(-1,48,48)\n",
        " #import matplotlib.pyplot as plt"
      ],
      "execution_count": 0,
      "outputs": []
    },
    {
      "cell_type": "code",
      "metadata": {
        "id": "No-_wdqVQGKR",
        "colab_type": "code",
        "colab": {}
      },
      "source": [
        "# functions to show an image\n",
        "#def imshow(img):\n",
        "    #img = img / 2 + 0.5     # unnormalize\n",
        "    \n",
        " #   plt.imshow(img,(48,48))\n"
      ],
      "execution_count": 0,
      "outputs": []
    },
    {
      "cell_type": "code",
      "metadata": {
        "id": "lpDhVvHXkHVd",
        "colab_type": "code",
        "colab": {}
      },
      "source": [
        "#imshow(train_images[0][0])"
      ],
      "execution_count": 0,
      "outputs": []
    },
    {
      "cell_type": "code",
      "metadata": {
        "id": "L9B_wgxtnAae",
        "colab_type": "code",
        "colab": {}
      },
      "source": [
        ""
      ],
      "execution_count": 0,
      "outputs": []
    },
    {
      "cell_type": "code",
      "metadata": {
        "id": "X-xLQ93nkgNN",
        "colab_type": "code",
        "colab": {}
      },
      "source": [
        "#train_images = np.array(train_images)\n",
        "#train_images.shape"
      ],
      "execution_count": 0,
      "outputs": []
    },
    {
      "cell_type": "code",
      "metadata": {
        "id": "wYG4sSJhkKTe",
        "colab_type": "code",
        "colab": {}
      },
      "source": [
        "# from PIL import Image\n",
        "# import numpy as np\n",
        "\n",
        "# w, h = 48, 48\n",
        "# img = Image.fromarray(train_images[0][0], 'RGB')\n",
        "# img.save('my.png')\n",
        "# img.show()\n",
        "\n",
        "\n"
      ],
      "execution_count": 0,
      "outputs": []
    }
  ]
}
